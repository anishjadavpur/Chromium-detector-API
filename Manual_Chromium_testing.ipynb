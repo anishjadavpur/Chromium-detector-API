{
  "nbformat": 4,
  "nbformat_minor": 0,
  "metadata": {
    "colab": {
      "provenance": [],
      "authorship_tag": "ABX9TyP0q6A9MM31su6YlUMget3F",
      "include_colab_link": true
    },
    "kernelspec": {
      "name": "python3",
      "display_name": "Python 3"
    },
    "language_info": {
      "name": "python"
    }
  },
  "cells": [
    {
      "cell_type": "markdown",
      "metadata": {
        "id": "view-in-github",
        "colab_type": "text"
      },
      "source": [
        "<a href=\"https://colab.research.google.com/github/anishjadavpur/Chromium-detector-API/blob/main/Manual_Chromium_testing.ipynb\" target=\"_parent\"><img src=\"https://colab.research.google.com/assets/colab-badge.svg\" alt=\"Open In Colab\"/></a>"
      ]
    },
    {
      "cell_type": "code",
      "execution_count": 454,
      "metadata": {
        "id": "DtsbVXtTa9-O"
      },
      "outputs": [],
      "source": [
        "from joblib import load\n",
        "import numpy as np\n",
        "import pandas as pd"
      ]
    },
    {
      "cell_type": "code",
      "source": [
        "df= pd.read_csv(r\"/content/Chromium_cleaned_final.csv\")\n",
        "df.set_index(\"TestNO\",inplace=True)"
      ],
      "metadata": {
        "id": "zSBom6kxD5vZ"
      },
      "execution_count": 455,
      "outputs": []
    },
    {
      "cell_type": "code",
      "source": [
        "df.head(50)"
      ],
      "metadata": {
        "colab": {
          "base_uri": "https://localhost:8080/",
          "height": 1000
        },
        "id": "ycW0Xcu0ENU1",
        "outputId": "1f568fda-98c1-4f69-fd22-3703f39181e2"
      },
      "execution_count": 456,
      "outputs": [
        {
          "output_type": "execute_result",
          "data": {
            "text/plain": [
              "            B       G      R       b      H  Conc\n",
              "TestNO                                           \n",
              "1       78.79  119.07  56.63  144.20  70.60   500\n",
              "1       88.77  120.10  80.05  140.80  66.58   250\n",
              "2       92.00  129.00  94.00  144.00  58.00    25\n",
              "2       92.00  129.00  92.00  144.00  60.00    50\n",
              "2       89.54  122.94  85.67  142.20  63.12   250\n",
              "2       79.28  118.98  58.27  143.99  70.31   500\n",
              "3       81.59  118.89  63.36  143.04  69.67   500\n",
              "3       95.00  130.00  97.00  144.00  58.00    25\n",
              "3       91.73  131.89  92.12  145.40  59.61   100\n",
              "3       94.00  130.00  94.00  144.00  59.00    50\n",
              "4       90.19  130.12  90.43  145.32  59.71   100\n",
              "4       95.00  131.00  98.00  144.00  58.00    25\n",
              "4       94.00  130.00  95.00  143.00  59.00    50\n",
              "4       82.03  119.49  63.47  143.06  69.77   500\n",
              "5       95.00  130.00  97.00  143.00  59.00    25\n",
              "5       90.69  130.57  91.21  145.32  59.52   100\n",
              "5       94.00  129.00  94.00  143.00  60.00    50\n",
              "6       82.02  120.58  61.01  143.53  70.01   500\n",
              "6       95.00  130.00  97.00  143.00  58.00    25\n",
              "7       79.82  119.33  57.08  143.96  70.34   500\n",
              "7       93.00  129.00  93.00  143.00  60.00    50\n",
              "7       94.00  129.00  96.00  143.00  58.00    25\n",
              "8       95.00  130.00  95.00  143.00  60.00    50\n",
              "8       91.90  122.53  82.29  140.40  66.72   250\n",
              "8       79.59  118.84  57.47  143.86  70.24   500\n",
              "9       95.00  130.00  95.00  143.00  60.00    50\n",
              "9       79.15  118.88  55.65  144.02  70.58   500\n",
              "9       91.00  129.00  94.00  145.00  57.00    25\n",
              "9       91.31  122.27  81.46  140.55  66.85   250\n",
              "10      96.00  129.00  95.00  143.00  60.00    50\n",
              "10      81.17  120.33  58.78  143.76  70.33   500\n",
              "10      92.48  123.30  83.19  140.50  66.53   250\n",
              "10      94.00  130.00  96.00  144.00  58.00    25\n",
              "11      79.81  119.60  56.17  144.03  70.59   500\n",
              "11      92.23  123.46  83.10  140.70  66.41   250\n",
              "11      95.00  131.00  97.00  144.00  58.00    25\n",
              "12      91.82  123.25  82.68  140.80  66.42   250\n",
              "12      93.00  130.00  92.00  144.00  61.00    50\n",
              "12      94.00  130.00  96.00  143.00  59.00    25\n",
              "12      79.64  119.28  56.58  143.99  70.46   500\n",
              "13      91.26  122.90  82.06  140.90  66.45   250\n",
              "13      95.00  131.00  94.00  143.00  61.00    50\n",
              "13      95.00  130.00  97.00  143.00  59.00    25\n",
              "13      78.51  118.75  54.13  144.25  70.72   500\n",
              "14      78.08  118.56  53.35  144.34  70.82   500\n",
              "14      95.00  131.00  94.00  143.00  61.00    50\n",
              "14      94.00  129.00  96.00  143.00  59.00    25\n",
              "14      92.11  123.67  83.35  140.88  66.20   250\n",
              "15      96.00  130.00  94.00  143.00  61.00    50\n",
              "15      79.13  119.20  55.38  144.19  70.54   500"
            ],
            "text/html": [
              "\n",
              "  <div id=\"df-c1cc2135-c382-4c73-8ff2-975ec292021b\" class=\"colab-df-container\">\n",
              "    <div>\n",
              "<style scoped>\n",
              "    .dataframe tbody tr th:only-of-type {\n",
              "        vertical-align: middle;\n",
              "    }\n",
              "\n",
              "    .dataframe tbody tr th {\n",
              "        vertical-align: top;\n",
              "    }\n",
              "\n",
              "    .dataframe thead th {\n",
              "        text-align: right;\n",
              "    }\n",
              "</style>\n",
              "<table border=\"1\" class=\"dataframe\">\n",
              "  <thead>\n",
              "    <tr style=\"text-align: right;\">\n",
              "      <th></th>\n",
              "      <th>B</th>\n",
              "      <th>G</th>\n",
              "      <th>R</th>\n",
              "      <th>b</th>\n",
              "      <th>H</th>\n",
              "      <th>Conc</th>\n",
              "    </tr>\n",
              "    <tr>\n",
              "      <th>TestNO</th>\n",
              "      <th></th>\n",
              "      <th></th>\n",
              "      <th></th>\n",
              "      <th></th>\n",
              "      <th></th>\n",
              "      <th></th>\n",
              "    </tr>\n",
              "  </thead>\n",
              "  <tbody>\n",
              "    <tr>\n",
              "      <th>1</th>\n",
              "      <td>78.79</td>\n",
              "      <td>119.07</td>\n",
              "      <td>56.63</td>\n",
              "      <td>144.20</td>\n",
              "      <td>70.60</td>\n",
              "      <td>500</td>\n",
              "    </tr>\n",
              "    <tr>\n",
              "      <th>1</th>\n",
              "      <td>88.77</td>\n",
              "      <td>120.10</td>\n",
              "      <td>80.05</td>\n",
              "      <td>140.80</td>\n",
              "      <td>66.58</td>\n",
              "      <td>250</td>\n",
              "    </tr>\n",
              "    <tr>\n",
              "      <th>2</th>\n",
              "      <td>92.00</td>\n",
              "      <td>129.00</td>\n",
              "      <td>94.00</td>\n",
              "      <td>144.00</td>\n",
              "      <td>58.00</td>\n",
              "      <td>25</td>\n",
              "    </tr>\n",
              "    <tr>\n",
              "      <th>2</th>\n",
              "      <td>92.00</td>\n",
              "      <td>129.00</td>\n",
              "      <td>92.00</td>\n",
              "      <td>144.00</td>\n",
              "      <td>60.00</td>\n",
              "      <td>50</td>\n",
              "    </tr>\n",
              "    <tr>\n",
              "      <th>2</th>\n",
              "      <td>89.54</td>\n",
              "      <td>122.94</td>\n",
              "      <td>85.67</td>\n",
              "      <td>142.20</td>\n",
              "      <td>63.12</td>\n",
              "      <td>250</td>\n",
              "    </tr>\n",
              "    <tr>\n",
              "      <th>2</th>\n",
              "      <td>79.28</td>\n",
              "      <td>118.98</td>\n",
              "      <td>58.27</td>\n",
              "      <td>143.99</td>\n",
              "      <td>70.31</td>\n",
              "      <td>500</td>\n",
              "    </tr>\n",
              "    <tr>\n",
              "      <th>3</th>\n",
              "      <td>81.59</td>\n",
              "      <td>118.89</td>\n",
              "      <td>63.36</td>\n",
              "      <td>143.04</td>\n",
              "      <td>69.67</td>\n",
              "      <td>500</td>\n",
              "    </tr>\n",
              "    <tr>\n",
              "      <th>3</th>\n",
              "      <td>95.00</td>\n",
              "      <td>130.00</td>\n",
              "      <td>97.00</td>\n",
              "      <td>144.00</td>\n",
              "      <td>58.00</td>\n",
              "      <td>25</td>\n",
              "    </tr>\n",
              "    <tr>\n",
              "      <th>3</th>\n",
              "      <td>91.73</td>\n",
              "      <td>131.89</td>\n",
              "      <td>92.12</td>\n",
              "      <td>145.40</td>\n",
              "      <td>59.61</td>\n",
              "      <td>100</td>\n",
              "    </tr>\n",
              "    <tr>\n",
              "      <th>3</th>\n",
              "      <td>94.00</td>\n",
              "      <td>130.00</td>\n",
              "      <td>94.00</td>\n",
              "      <td>144.00</td>\n",
              "      <td>59.00</td>\n",
              "      <td>50</td>\n",
              "    </tr>\n",
              "    <tr>\n",
              "      <th>4</th>\n",
              "      <td>90.19</td>\n",
              "      <td>130.12</td>\n",
              "      <td>90.43</td>\n",
              "      <td>145.32</td>\n",
              "      <td>59.71</td>\n",
              "      <td>100</td>\n",
              "    </tr>\n",
              "    <tr>\n",
              "      <th>4</th>\n",
              "      <td>95.00</td>\n",
              "      <td>131.00</td>\n",
              "      <td>98.00</td>\n",
              "      <td>144.00</td>\n",
              "      <td>58.00</td>\n",
              "      <td>25</td>\n",
              "    </tr>\n",
              "    <tr>\n",
              "      <th>4</th>\n",
              "      <td>94.00</td>\n",
              "      <td>130.00</td>\n",
              "      <td>95.00</td>\n",
              "      <td>143.00</td>\n",
              "      <td>59.00</td>\n",
              "      <td>50</td>\n",
              "    </tr>\n",
              "    <tr>\n",
              "      <th>4</th>\n",
              "      <td>82.03</td>\n",
              "      <td>119.49</td>\n",
              "      <td>63.47</td>\n",
              "      <td>143.06</td>\n",
              "      <td>69.77</td>\n",
              "      <td>500</td>\n",
              "    </tr>\n",
              "    <tr>\n",
              "      <th>5</th>\n",
              "      <td>95.00</td>\n",
              "      <td>130.00</td>\n",
              "      <td>97.00</td>\n",
              "      <td>143.00</td>\n",
              "      <td>59.00</td>\n",
              "      <td>25</td>\n",
              "    </tr>\n",
              "    <tr>\n",
              "      <th>5</th>\n",
              "      <td>90.69</td>\n",
              "      <td>130.57</td>\n",
              "      <td>91.21</td>\n",
              "      <td>145.32</td>\n",
              "      <td>59.52</td>\n",
              "      <td>100</td>\n",
              "    </tr>\n",
              "    <tr>\n",
              "      <th>5</th>\n",
              "      <td>94.00</td>\n",
              "      <td>129.00</td>\n",
              "      <td>94.00</td>\n",
              "      <td>143.00</td>\n",
              "      <td>60.00</td>\n",
              "      <td>50</td>\n",
              "    </tr>\n",
              "    <tr>\n",
              "      <th>6</th>\n",
              "      <td>82.02</td>\n",
              "      <td>120.58</td>\n",
              "      <td>61.01</td>\n",
              "      <td>143.53</td>\n",
              "      <td>70.01</td>\n",
              "      <td>500</td>\n",
              "    </tr>\n",
              "    <tr>\n",
              "      <th>6</th>\n",
              "      <td>95.00</td>\n",
              "      <td>130.00</td>\n",
              "      <td>97.00</td>\n",
              "      <td>143.00</td>\n",
              "      <td>58.00</td>\n",
              "      <td>25</td>\n",
              "    </tr>\n",
              "    <tr>\n",
              "      <th>7</th>\n",
              "      <td>79.82</td>\n",
              "      <td>119.33</td>\n",
              "      <td>57.08</td>\n",
              "      <td>143.96</td>\n",
              "      <td>70.34</td>\n",
              "      <td>500</td>\n",
              "    </tr>\n",
              "    <tr>\n",
              "      <th>7</th>\n",
              "      <td>93.00</td>\n",
              "      <td>129.00</td>\n",
              "      <td>93.00</td>\n",
              "      <td>143.00</td>\n",
              "      <td>60.00</td>\n",
              "      <td>50</td>\n",
              "    </tr>\n",
              "    <tr>\n",
              "      <th>7</th>\n",
              "      <td>94.00</td>\n",
              "      <td>129.00</td>\n",
              "      <td>96.00</td>\n",
              "      <td>143.00</td>\n",
              "      <td>58.00</td>\n",
              "      <td>25</td>\n",
              "    </tr>\n",
              "    <tr>\n",
              "      <th>8</th>\n",
              "      <td>95.00</td>\n",
              "      <td>130.00</td>\n",
              "      <td>95.00</td>\n",
              "      <td>143.00</td>\n",
              "      <td>60.00</td>\n",
              "      <td>50</td>\n",
              "    </tr>\n",
              "    <tr>\n",
              "      <th>8</th>\n",
              "      <td>91.90</td>\n",
              "      <td>122.53</td>\n",
              "      <td>82.29</td>\n",
              "      <td>140.40</td>\n",
              "      <td>66.72</td>\n",
              "      <td>250</td>\n",
              "    </tr>\n",
              "    <tr>\n",
              "      <th>8</th>\n",
              "      <td>79.59</td>\n",
              "      <td>118.84</td>\n",
              "      <td>57.47</td>\n",
              "      <td>143.86</td>\n",
              "      <td>70.24</td>\n",
              "      <td>500</td>\n",
              "    </tr>\n",
              "    <tr>\n",
              "      <th>9</th>\n",
              "      <td>95.00</td>\n",
              "      <td>130.00</td>\n",
              "      <td>95.00</td>\n",
              "      <td>143.00</td>\n",
              "      <td>60.00</td>\n",
              "      <td>50</td>\n",
              "    </tr>\n",
              "    <tr>\n",
              "      <th>9</th>\n",
              "      <td>79.15</td>\n",
              "      <td>118.88</td>\n",
              "      <td>55.65</td>\n",
              "      <td>144.02</td>\n",
              "      <td>70.58</td>\n",
              "      <td>500</td>\n",
              "    </tr>\n",
              "    <tr>\n",
              "      <th>9</th>\n",
              "      <td>91.00</td>\n",
              "      <td>129.00</td>\n",
              "      <td>94.00</td>\n",
              "      <td>145.00</td>\n",
              "      <td>57.00</td>\n",
              "      <td>25</td>\n",
              "    </tr>\n",
              "    <tr>\n",
              "      <th>9</th>\n",
              "      <td>91.31</td>\n",
              "      <td>122.27</td>\n",
              "      <td>81.46</td>\n",
              "      <td>140.55</td>\n",
              "      <td>66.85</td>\n",
              "      <td>250</td>\n",
              "    </tr>\n",
              "    <tr>\n",
              "      <th>10</th>\n",
              "      <td>96.00</td>\n",
              "      <td>129.00</td>\n",
              "      <td>95.00</td>\n",
              "      <td>143.00</td>\n",
              "      <td>60.00</td>\n",
              "      <td>50</td>\n",
              "    </tr>\n",
              "    <tr>\n",
              "      <th>10</th>\n",
              "      <td>81.17</td>\n",
              "      <td>120.33</td>\n",
              "      <td>58.78</td>\n",
              "      <td>143.76</td>\n",
              "      <td>70.33</td>\n",
              "      <td>500</td>\n",
              "    </tr>\n",
              "    <tr>\n",
              "      <th>10</th>\n",
              "      <td>92.48</td>\n",
              "      <td>123.30</td>\n",
              "      <td>83.19</td>\n",
              "      <td>140.50</td>\n",
              "      <td>66.53</td>\n",
              "      <td>250</td>\n",
              "    </tr>\n",
              "    <tr>\n",
              "      <th>10</th>\n",
              "      <td>94.00</td>\n",
              "      <td>130.00</td>\n",
              "      <td>96.00</td>\n",
              "      <td>144.00</td>\n",
              "      <td>58.00</td>\n",
              "      <td>25</td>\n",
              "    </tr>\n",
              "    <tr>\n",
              "      <th>11</th>\n",
              "      <td>79.81</td>\n",
              "      <td>119.60</td>\n",
              "      <td>56.17</td>\n",
              "      <td>144.03</td>\n",
              "      <td>70.59</td>\n",
              "      <td>500</td>\n",
              "    </tr>\n",
              "    <tr>\n",
              "      <th>11</th>\n",
              "      <td>92.23</td>\n",
              "      <td>123.46</td>\n",
              "      <td>83.10</td>\n",
              "      <td>140.70</td>\n",
              "      <td>66.41</td>\n",
              "      <td>250</td>\n",
              "    </tr>\n",
              "    <tr>\n",
              "      <th>11</th>\n",
              "      <td>95.00</td>\n",
              "      <td>131.00</td>\n",
              "      <td>97.00</td>\n",
              "      <td>144.00</td>\n",
              "      <td>58.00</td>\n",
              "      <td>25</td>\n",
              "    </tr>\n",
              "    <tr>\n",
              "      <th>12</th>\n",
              "      <td>91.82</td>\n",
              "      <td>123.25</td>\n",
              "      <td>82.68</td>\n",
              "      <td>140.80</td>\n",
              "      <td>66.42</td>\n",
              "      <td>250</td>\n",
              "    </tr>\n",
              "    <tr>\n",
              "      <th>12</th>\n",
              "      <td>93.00</td>\n",
              "      <td>130.00</td>\n",
              "      <td>92.00</td>\n",
              "      <td>144.00</td>\n",
              "      <td>61.00</td>\n",
              "      <td>50</td>\n",
              "    </tr>\n",
              "    <tr>\n",
              "      <th>12</th>\n",
              "      <td>94.00</td>\n",
              "      <td>130.00</td>\n",
              "      <td>96.00</td>\n",
              "      <td>143.00</td>\n",
              "      <td>59.00</td>\n",
              "      <td>25</td>\n",
              "    </tr>\n",
              "    <tr>\n",
              "      <th>12</th>\n",
              "      <td>79.64</td>\n",
              "      <td>119.28</td>\n",
              "      <td>56.58</td>\n",
              "      <td>143.99</td>\n",
              "      <td>70.46</td>\n",
              "      <td>500</td>\n",
              "    </tr>\n",
              "    <tr>\n",
              "      <th>13</th>\n",
              "      <td>91.26</td>\n",
              "      <td>122.90</td>\n",
              "      <td>82.06</td>\n",
              "      <td>140.90</td>\n",
              "      <td>66.45</td>\n",
              "      <td>250</td>\n",
              "    </tr>\n",
              "    <tr>\n",
              "      <th>13</th>\n",
              "      <td>95.00</td>\n",
              "      <td>131.00</td>\n",
              "      <td>94.00</td>\n",
              "      <td>143.00</td>\n",
              "      <td>61.00</td>\n",
              "      <td>50</td>\n",
              "    </tr>\n",
              "    <tr>\n",
              "      <th>13</th>\n",
              "      <td>95.00</td>\n",
              "      <td>130.00</td>\n",
              "      <td>97.00</td>\n",
              "      <td>143.00</td>\n",
              "      <td>59.00</td>\n",
              "      <td>25</td>\n",
              "    </tr>\n",
              "    <tr>\n",
              "      <th>13</th>\n",
              "      <td>78.51</td>\n",
              "      <td>118.75</td>\n",
              "      <td>54.13</td>\n",
              "      <td>144.25</td>\n",
              "      <td>70.72</td>\n",
              "      <td>500</td>\n",
              "    </tr>\n",
              "    <tr>\n",
              "      <th>14</th>\n",
              "      <td>78.08</td>\n",
              "      <td>118.56</td>\n",
              "      <td>53.35</td>\n",
              "      <td>144.34</td>\n",
              "      <td>70.82</td>\n",
              "      <td>500</td>\n",
              "    </tr>\n",
              "    <tr>\n",
              "      <th>14</th>\n",
              "      <td>95.00</td>\n",
              "      <td>131.00</td>\n",
              "      <td>94.00</td>\n",
              "      <td>143.00</td>\n",
              "      <td>61.00</td>\n",
              "      <td>50</td>\n",
              "    </tr>\n",
              "    <tr>\n",
              "      <th>14</th>\n",
              "      <td>94.00</td>\n",
              "      <td>129.00</td>\n",
              "      <td>96.00</td>\n",
              "      <td>143.00</td>\n",
              "      <td>59.00</td>\n",
              "      <td>25</td>\n",
              "    </tr>\n",
              "    <tr>\n",
              "      <th>14</th>\n",
              "      <td>92.11</td>\n",
              "      <td>123.67</td>\n",
              "      <td>83.35</td>\n",
              "      <td>140.88</td>\n",
              "      <td>66.20</td>\n",
              "      <td>250</td>\n",
              "    </tr>\n",
              "    <tr>\n",
              "      <th>15</th>\n",
              "      <td>96.00</td>\n",
              "      <td>130.00</td>\n",
              "      <td>94.00</td>\n",
              "      <td>143.00</td>\n",
              "      <td>61.00</td>\n",
              "      <td>50</td>\n",
              "    </tr>\n",
              "    <tr>\n",
              "      <th>15</th>\n",
              "      <td>79.13</td>\n",
              "      <td>119.20</td>\n",
              "      <td>55.38</td>\n",
              "      <td>144.19</td>\n",
              "      <td>70.54</td>\n",
              "      <td>500</td>\n",
              "    </tr>\n",
              "  </tbody>\n",
              "</table>\n",
              "</div>\n",
              "    <div class=\"colab-df-buttons\">\n",
              "\n",
              "  <div class=\"colab-df-container\">\n",
              "    <button class=\"colab-df-convert\" onclick=\"convertToInteractive('df-c1cc2135-c382-4c73-8ff2-975ec292021b')\"\n",
              "            title=\"Convert this dataframe to an interactive table.\"\n",
              "            style=\"display:none;\">\n",
              "\n",
              "  <svg xmlns=\"http://www.w3.org/2000/svg\" height=\"24px\" viewBox=\"0 -960 960 960\">\n",
              "    <path d=\"M120-120v-720h720v720H120Zm60-500h600v-160H180v160Zm220 220h160v-160H400v160Zm0 220h160v-160H400v160ZM180-400h160v-160H180v160Zm440 0h160v-160H620v160ZM180-180h160v-160H180v160Zm440 0h160v-160H620v160Z\"/>\n",
              "  </svg>\n",
              "    </button>\n",
              "\n",
              "  <style>\n",
              "    .colab-df-container {\n",
              "      display:flex;\n",
              "      gap: 12px;\n",
              "    }\n",
              "\n",
              "    .colab-df-convert {\n",
              "      background-color: #E8F0FE;\n",
              "      border: none;\n",
              "      border-radius: 50%;\n",
              "      cursor: pointer;\n",
              "      display: none;\n",
              "      fill: #1967D2;\n",
              "      height: 32px;\n",
              "      padding: 0 0 0 0;\n",
              "      width: 32px;\n",
              "    }\n",
              "\n",
              "    .colab-df-convert:hover {\n",
              "      background-color: #E2EBFA;\n",
              "      box-shadow: 0px 1px 2px rgba(60, 64, 67, 0.3), 0px 1px 3px 1px rgba(60, 64, 67, 0.15);\n",
              "      fill: #174EA6;\n",
              "    }\n",
              "\n",
              "    .colab-df-buttons div {\n",
              "      margin-bottom: 4px;\n",
              "    }\n",
              "\n",
              "    [theme=dark] .colab-df-convert {\n",
              "      background-color: #3B4455;\n",
              "      fill: #D2E3FC;\n",
              "    }\n",
              "\n",
              "    [theme=dark] .colab-df-convert:hover {\n",
              "      background-color: #434B5C;\n",
              "      box-shadow: 0px 1px 3px 1px rgba(0, 0, 0, 0.15);\n",
              "      filter: drop-shadow(0px 1px 2px rgba(0, 0, 0, 0.3));\n",
              "      fill: #FFFFFF;\n",
              "    }\n",
              "  </style>\n",
              "\n",
              "    <script>\n",
              "      const buttonEl =\n",
              "        document.querySelector('#df-c1cc2135-c382-4c73-8ff2-975ec292021b button.colab-df-convert');\n",
              "      buttonEl.style.display =\n",
              "        google.colab.kernel.accessAllowed ? 'block' : 'none';\n",
              "\n",
              "      async function convertToInteractive(key) {\n",
              "        const element = document.querySelector('#df-c1cc2135-c382-4c73-8ff2-975ec292021b');\n",
              "        const dataTable =\n",
              "          await google.colab.kernel.invokeFunction('convertToInteractive',\n",
              "                                                    [key], {});\n",
              "        if (!dataTable) return;\n",
              "\n",
              "        const docLinkHtml = 'Like what you see? Visit the ' +\n",
              "          '<a target=\"_blank\" href=https://colab.research.google.com/notebooks/data_table.ipynb>data table notebook</a>'\n",
              "          + ' to learn more about interactive tables.';\n",
              "        element.innerHTML = '';\n",
              "        dataTable['output_type'] = 'display_data';\n",
              "        await google.colab.output.renderOutput(dataTable, element);\n",
              "        const docLink = document.createElement('div');\n",
              "        docLink.innerHTML = docLinkHtml;\n",
              "        element.appendChild(docLink);\n",
              "      }\n",
              "    </script>\n",
              "  </div>\n",
              "\n",
              "\n",
              "<div id=\"df-6215e4f9-ecd9-4f27-b933-3962af4ffc3c\">\n",
              "  <button class=\"colab-df-quickchart\" onclick=\"quickchart('df-6215e4f9-ecd9-4f27-b933-3962af4ffc3c')\"\n",
              "            title=\"Suggest charts\"\n",
              "            style=\"display:none;\">\n",
              "\n",
              "<svg xmlns=\"http://www.w3.org/2000/svg\" height=\"24px\"viewBox=\"0 0 24 24\"\n",
              "     width=\"24px\">\n",
              "    <g>\n",
              "        <path d=\"M19 3H5c-1.1 0-2 .9-2 2v14c0 1.1.9 2 2 2h14c1.1 0 2-.9 2-2V5c0-1.1-.9-2-2-2zM9 17H7v-7h2v7zm4 0h-2V7h2v10zm4 0h-2v-4h2v4z\"/>\n",
              "    </g>\n",
              "</svg>\n",
              "  </button>\n",
              "\n",
              "<style>\n",
              "  .colab-df-quickchart {\n",
              "      --bg-color: #E8F0FE;\n",
              "      --fill-color: #1967D2;\n",
              "      --hover-bg-color: #E2EBFA;\n",
              "      --hover-fill-color: #174EA6;\n",
              "      --disabled-fill-color: #AAA;\n",
              "      --disabled-bg-color: #DDD;\n",
              "  }\n",
              "\n",
              "  [theme=dark] .colab-df-quickchart {\n",
              "      --bg-color: #3B4455;\n",
              "      --fill-color: #D2E3FC;\n",
              "      --hover-bg-color: #434B5C;\n",
              "      --hover-fill-color: #FFFFFF;\n",
              "      --disabled-bg-color: #3B4455;\n",
              "      --disabled-fill-color: #666;\n",
              "  }\n",
              "\n",
              "  .colab-df-quickchart {\n",
              "    background-color: var(--bg-color);\n",
              "    border: none;\n",
              "    border-radius: 50%;\n",
              "    cursor: pointer;\n",
              "    display: none;\n",
              "    fill: var(--fill-color);\n",
              "    height: 32px;\n",
              "    padding: 0;\n",
              "    width: 32px;\n",
              "  }\n",
              "\n",
              "  .colab-df-quickchart:hover {\n",
              "    background-color: var(--hover-bg-color);\n",
              "    box-shadow: 0 1px 2px rgba(60, 64, 67, 0.3), 0 1px 3px 1px rgba(60, 64, 67, 0.15);\n",
              "    fill: var(--button-hover-fill-color);\n",
              "  }\n",
              "\n",
              "  .colab-df-quickchart-complete:disabled,\n",
              "  .colab-df-quickchart-complete:disabled:hover {\n",
              "    background-color: var(--disabled-bg-color);\n",
              "    fill: var(--disabled-fill-color);\n",
              "    box-shadow: none;\n",
              "  }\n",
              "\n",
              "  .colab-df-spinner {\n",
              "    border: 2px solid var(--fill-color);\n",
              "    border-color: transparent;\n",
              "    border-bottom-color: var(--fill-color);\n",
              "    animation:\n",
              "      spin 1s steps(1) infinite;\n",
              "  }\n",
              "\n",
              "  @keyframes spin {\n",
              "    0% {\n",
              "      border-color: transparent;\n",
              "      border-bottom-color: var(--fill-color);\n",
              "      border-left-color: var(--fill-color);\n",
              "    }\n",
              "    20% {\n",
              "      border-color: transparent;\n",
              "      border-left-color: var(--fill-color);\n",
              "      border-top-color: var(--fill-color);\n",
              "    }\n",
              "    30% {\n",
              "      border-color: transparent;\n",
              "      border-left-color: var(--fill-color);\n",
              "      border-top-color: var(--fill-color);\n",
              "      border-right-color: var(--fill-color);\n",
              "    }\n",
              "    40% {\n",
              "      border-color: transparent;\n",
              "      border-right-color: var(--fill-color);\n",
              "      border-top-color: var(--fill-color);\n",
              "    }\n",
              "    60% {\n",
              "      border-color: transparent;\n",
              "      border-right-color: var(--fill-color);\n",
              "    }\n",
              "    80% {\n",
              "      border-color: transparent;\n",
              "      border-right-color: var(--fill-color);\n",
              "      border-bottom-color: var(--fill-color);\n",
              "    }\n",
              "    90% {\n",
              "      border-color: transparent;\n",
              "      border-bottom-color: var(--fill-color);\n",
              "    }\n",
              "  }\n",
              "</style>\n",
              "\n",
              "  <script>\n",
              "    async function quickchart(key) {\n",
              "      const quickchartButtonEl =\n",
              "        document.querySelector('#' + key + ' button');\n",
              "      quickchartButtonEl.disabled = true;  // To prevent multiple clicks.\n",
              "      quickchartButtonEl.classList.add('colab-df-spinner');\n",
              "      try {\n",
              "        const charts = await google.colab.kernel.invokeFunction(\n",
              "            'suggestCharts', [key], {});\n",
              "      } catch (error) {\n",
              "        console.error('Error during call to suggestCharts:', error);\n",
              "      }\n",
              "      quickchartButtonEl.classList.remove('colab-df-spinner');\n",
              "      quickchartButtonEl.classList.add('colab-df-quickchart-complete');\n",
              "    }\n",
              "    (() => {\n",
              "      let quickchartButtonEl =\n",
              "        document.querySelector('#df-6215e4f9-ecd9-4f27-b933-3962af4ffc3c button');\n",
              "      quickchartButtonEl.style.display =\n",
              "        google.colab.kernel.accessAllowed ? 'block' : 'none';\n",
              "    })();\n",
              "  </script>\n",
              "</div>\n",
              "\n",
              "    </div>\n",
              "  </div>\n"
            ],
            "application/vnd.google.colaboratory.intrinsic+json": {
              "type": "dataframe",
              "variable_name": "df",
              "summary": "{\n  \"name\": \"df\",\n  \"rows\": 1715,\n  \"fields\": [\n    {\n      \"column\": \"TestNO\",\n      \"properties\": {\n        \"dtype\": \"number\",\n        \"std\": 120,\n        \"min\": 1,\n        \"max\": 500,\n        \"num_unique_values\": 444,\n        \"samples\": [\n          335,\n          138,\n          73\n        ],\n        \"semantic_type\": \"\",\n        \"description\": \"\"\n      }\n    },\n    {\n      \"column\": \"B\",\n      \"properties\": {\n        \"dtype\": \"number\",\n        \"std\": 5.061028072139126,\n        \"min\": 76.6,\n        \"max\": 99.0,\n        \"num_unique_values\": 741,\n        \"samples\": [\n          91.81,\n          89.08,\n          80.2\n        ],\n        \"semantic_type\": \"\",\n        \"description\": \"\"\n      }\n    },\n    {\n      \"column\": \"G\",\n      \"properties\": {\n        \"dtype\": \"number\",\n        \"std\": 4.580651254305509,\n        \"min\": 116.87,\n        \"max\": 136.0,\n        \"num_unique_values\": 697,\n        \"samples\": [\n          121.06,\n          126.92,\n          119.21\n        ],\n        \"semantic_type\": \"\",\n        \"description\": \"\"\n      }\n    },\n    {\n      \"column\": \"R\",\n      \"properties\": {\n        \"dtype\": \"number\",\n        \"std\": 12.199309904144702,\n        \"min\": 53.35,\n        \"max\": 101.0,\n        \"num_unique_values\": 882,\n        \"samples\": [\n          89.54,\n          58.1,\n          81.47\n        ],\n        \"semantic_type\": \"\",\n        \"description\": \"\"\n      }\n    },\n    {\n      \"column\": \"b\",\n      \"properties\": {\n        \"dtype\": \"number\",\n        \"std\": 1.6820806935410086,\n        \"min\": 139.76,\n        \"max\": 148.79,\n        \"num_unique_values\": 559,\n        \"samples\": [\n          145.85,\n          144.68,\n          145.34\n        ],\n        \"semantic_type\": \"\",\n        \"description\": \"\"\n      }\n    },\n    {\n      \"column\": \"H\",\n      \"properties\": {\n        \"dtype\": \"number\",\n        \"std\": 4.430603210323831,\n        \"min\": 54.67,\n        \"max\": 70.82,\n        \"num_unique_values\": 735,\n        \"samples\": [\n          55.45,\n          70.35,\n          60.74\n        ],\n        \"semantic_type\": \"\",\n        \"description\": \"\"\n      }\n    },\n    {\n      \"column\": \"Conc\",\n      \"properties\": {\n        \"dtype\": \"number\",\n        \"std\": 174,\n        \"min\": 25,\n        \"max\": 500,\n        \"num_unique_values\": 5,\n        \"samples\": [\n          250,\n          100,\n          25\n        ],\n        \"semantic_type\": \"\",\n        \"description\": \"\"\n      }\n    }\n  ]\n}"
            }
          },
          "metadata": {},
          "execution_count": 456
        }
      ]
    },
    {
      "cell_type": "code",
      "source": [
        "input_data = np.array([['92.00','129.00','92.00','144.0','60.00']])\n",
        "\n",
        "# 92.00\t129.00\t92.00\t144.0\t60.00\tconc: 50\n"
      ],
      "metadata": {
        "id": "c5iYz-Ijb81k"
      },
      "execution_count": 457,
      "outputs": []
    },
    {
      "cell_type": "code",
      "source": [
        "filename = \"best_chromium_regressor_pipeline_CV_5.57.joblib\"\n",
        "\n",
        "\n",
        "# Load the pipeline from the file\n",
        "loaded_pipeline = load(filename)\n",
        "print(f\"Pipeline loaded from {filename}\")\n"
      ],
      "metadata": {
        "colab": {
          "base_uri": "https://localhost:8080/"
        },
        "id": "ejDWxvXYbIJJ",
        "outputId": "45077a2c-fb7d-48d4-e52c-e962c735a360"
      },
      "execution_count": 458,
      "outputs": [
        {
          "output_type": "stream",
          "name": "stdout",
          "text": [
            "Pipeline loaded from best_chromium_regressor_pipeline_CV_5.57.joblib\n"
          ]
        }
      ]
    },
    {
      "cell_type": "code",
      "source": [
        "y_pred_loaded = loaded_pipeline.predict(input_data)\n",
        "print(y_pred_loaded) #50"
      ],
      "metadata": {
        "colab": {
          "base_uri": "https://localhost:8080/"
        },
        "id": "l_CqKcpzcWw8",
        "outputId": "f82c2d45-da3f-406d-bc8d-60786a9d3693"
      },
      "execution_count": 459,
      "outputs": [
        {
          "output_type": "stream",
          "name": "stdout",
          "text": [
            "[50.191055]\n"
          ]
        },
        {
          "output_type": "stream",
          "name": "stderr",
          "text": [
            "/usr/local/lib/python3.10/dist-packages/sklearn/base.py:465: UserWarning: X does not have valid feature names, but StandardScaler was fitted with feature names\n",
            "  warnings.warn(\n"
          ]
        }
      ]
    },
    {
      "cell_type": "code",
      "source": [
        "input_data2 = np.array([['89.54','122.94','85.67','142.2','63.12']])\n",
        "# 89.54\t122.94\t85.67\t142.2\t63.12\tconc:250"
      ],
      "metadata": {
        "id": "evfyM6J1c0hR"
      },
      "execution_count": 460,
      "outputs": []
    },
    {
      "cell_type": "code",
      "source": [],
      "metadata": {
        "id": "0QbPvB0D4px8"
      },
      "execution_count": 460,
      "outputs": []
    },
    {
      "cell_type": "code",
      "source": [],
      "metadata": {
        "id": "4navH09UlXjs"
      },
      "execution_count": 460,
      "outputs": []
    },
    {
      "cell_type": "code",
      "source": [
        "y_pred2 = loaded_pipeline.predict(input_data2)\n",
        "print(y_pred2) #250"
      ],
      "metadata": {
        "colab": {
          "base_uri": "https://localhost:8080/"
        },
        "id": "jG9KQ3A6c_eN",
        "outputId": "f0888a66-ff5e-428f-a369-6a45333d2b28"
      },
      "execution_count": 461,
      "outputs": [
        {
          "output_type": "stream",
          "name": "stdout",
          "text": [
            "[249.9334]\n"
          ]
        },
        {
          "output_type": "stream",
          "name": "stderr",
          "text": [
            "/usr/local/lib/python3.10/dist-packages/sklearn/base.py:465: UserWarning: X does not have valid feature names, but StandardScaler was fitted with feature names\n",
            "  warnings.warn(\n"
          ]
        }
      ]
    },
    {
      "cell_type": "code",
      "source": [
        "# 93.00\t130.00\t96.00\t144.0\t58.00  conc:25\n",
        "# 78.79\t119.07\t56.63\t144.2\t70.60\tconc:500\n",
        "input_data3 = np.array([['93.00','130.00','96.00','144.0','58.00']])\n",
        "input_data4 = np.array([['78.79','119.07','56.63','144.2','70.60']])\n"
      ],
      "metadata": {
        "id": "n08mJeStdG8p"
      },
      "execution_count": 462,
      "outputs": []
    },
    {
      "cell_type": "code",
      "source": [
        "y_pred3= loaded_pipeline.predict(input_data3)\n",
        "print(y_pred3)  #shhould have been 25 instead of 31"
      ],
      "metadata": {
        "colab": {
          "base_uri": "https://localhost:8080/"
        },
        "id": "TKehWwF6eE-a",
        "outputId": "cebe6dd4-736f-4e38-ff09-86679e50b4bf"
      },
      "execution_count": 463,
      "outputs": [
        {
          "output_type": "stream",
          "name": "stdout",
          "text": [
            "[31.619339]\n"
          ]
        },
        {
          "output_type": "stream",
          "name": "stderr",
          "text": [
            "/usr/local/lib/python3.10/dist-packages/sklearn/base.py:465: UserWarning: X does not have valid feature names, but StandardScaler was fitted with feature names\n",
            "  warnings.warn(\n"
          ]
        }
      ]
    },
    {
      "cell_type": "code",
      "source": [
        "y_pred4= loaded_pipeline.predict(input_data4)\n",
        "print(y_pred4)  #500"
      ],
      "metadata": {
        "colab": {
          "base_uri": "https://localhost:8080/"
        },
        "id": "IPla5VyLeO09",
        "outputId": "a0118cfb-aa84-499d-f163-137d9eb6260c"
      },
      "execution_count": 464,
      "outputs": [
        {
          "output_type": "stream",
          "name": "stdout",
          "text": [
            "[499.72144]\n"
          ]
        },
        {
          "output_type": "stream",
          "name": "stderr",
          "text": [
            "/usr/local/lib/python3.10/dist-packages/sklearn/base.py:465: UserWarning: X does not have valid feature names, but StandardScaler was fitted with feature names\n",
            "  warnings.warn(\n"
          ]
        }
      ]
    },
    {
      "cell_type": "code",
      "source": [],
      "metadata": {
        "id": "Q9jPqkeE4gQ4"
      },
      "execution_count": 464,
      "outputs": []
    },
    {
      "cell_type": "code",
      "source": [],
      "metadata": {
        "id": "hVpMf0MZ4gTg"
      },
      "execution_count": 464,
      "outputs": []
    },
    {
      "cell_type": "markdown",
      "source": [
        "# Now Voting regressor is included in the base models\n",
        "- the MAE is little lower but  the RMSE is little higher then previous\n"
      ],
      "metadata": {
        "id": "gOoneZ_s5Xfg"
      }
    },
    {
      "cell_type": "code",
      "source": [
        "filename = \"best_chromium_regressor_pipeline2 (2).joblib\"\n",
        "\n",
        "\n",
        "# Load the pipeline from the file\n",
        "loaded_pipeline = load(filename)\n",
        "print(f\"Pipeline loaded from {filename}\")\n"
      ],
      "metadata": {
        "colab": {
          "base_uri": "https://localhost:8080/"
        },
        "id": "fu7WGu1ZlYoL",
        "outputId": "837b16d5-40a3-4378-bf35-76b1343d8dca"
      },
      "execution_count": 466,
      "outputs": [
        {
          "output_type": "stream",
          "name": "stdout",
          "text": [
            "Pipeline loaded from best_chromium_regressor_pipeline2 (2).joblib\n"
          ]
        }
      ]
    },
    {
      "cell_type": "code",
      "source": [
        "y_pred_loaded = loaded_pipeline.predict(input_data)\n",
        "print(y_pred_loaded) #50"
      ],
      "metadata": {
        "colab": {
          "base_uri": "https://localhost:8080/"
        },
        "id": "n7vUhaeg4lrh",
        "outputId": "7575e3eb-6cc9-4519-99d7-a86553e243fc"
      },
      "execution_count": 467,
      "outputs": [
        {
          "output_type": "stream",
          "name": "stdout",
          "text": [
            "[49.99798]\n"
          ]
        },
        {
          "output_type": "stream",
          "name": "stderr",
          "text": [
            "/usr/local/lib/python3.10/dist-packages/sklearn/base.py:465: UserWarning: X does not have valid feature names, but StandardScaler was fitted with feature names\n",
            "  warnings.warn(\n"
          ]
        }
      ]
    },
    {
      "cell_type": "code",
      "source": [
        "y_pred3= loaded_pipeline.predict(input_data3)\n",
        "print(y_pred3)  # 25"
      ],
      "metadata": {
        "colab": {
          "base_uri": "https://localhost:8080/"
        },
        "id": "qhsokF824r7m",
        "outputId": "2676a8b9-4e41-48f8-a268-47270006d170"
      },
      "execution_count": 468,
      "outputs": [
        {
          "output_type": "stream",
          "name": "stdout",
          "text": [
            "[26.509212]\n"
          ]
        },
        {
          "output_type": "stream",
          "name": "stderr",
          "text": [
            "/usr/local/lib/python3.10/dist-packages/sklearn/base.py:465: UserWarning: X does not have valid feature names, but StandardScaler was fitted with feature names\n",
            "  warnings.warn(\n"
          ]
        }
      ]
    },
    {
      "cell_type": "code",
      "source": [
        "y_pred4= loaded_pipeline.predict(input_data4)\n",
        "print(y_pred4)  #500"
      ],
      "metadata": {
        "colab": {
          "base_uri": "https://localhost:8080/"
        },
        "id": "1JnkQMRV48Ap",
        "outputId": "f0192f32-5d25-4625-f169-2ff7f09f6324"
      },
      "execution_count": 469,
      "outputs": [
        {
          "output_type": "stream",
          "name": "stdout",
          "text": [
            "[499.99997]\n"
          ]
        },
        {
          "output_type": "stream",
          "name": "stderr",
          "text": [
            "/usr/local/lib/python3.10/dist-packages/sklearn/base.py:465: UserWarning: X does not have valid feature names, but StandardScaler was fitted with feature names\n",
            "  warnings.warn(\n"
          ]
        }
      ]
    },
    {
      "cell_type": "code",
      "source": [
        "\t# 92.00\t129.00\t95.00\t144.0\t58.00 conc: 25\n",
        "  # 92.11\t123.67\t83.35\t140.88\t66.20 conc:250\n",
        "\n",
        "input_data5 = np.array([['92.00','129.00','95.00','144.0','58.00']])\n",
        "input_data6 = np.array([['92.11','123.67','83.35','140.88','66.20']])\n"
      ],
      "metadata": {
        "id": "nuw9yrM2Crxq"
      },
      "execution_count": 470,
      "outputs": []
    },
    {
      "cell_type": "code",
      "source": [
        "y_pred5= loaded_pipeline.predict(input_data5)\n",
        "print(y_pred5)  #25"
      ],
      "metadata": {
        "colab": {
          "base_uri": "https://localhost:8080/"
        },
        "id": "KYyVfPS0Dj-a",
        "outputId": "697c0fe8-0e7b-46c3-b57a-44269f7a08fb"
      },
      "execution_count": 471,
      "outputs": [
        {
          "output_type": "stream",
          "name": "stdout",
          "text": [
            "[24.359087]\n"
          ]
        },
        {
          "output_type": "stream",
          "name": "stderr",
          "text": [
            "/usr/local/lib/python3.10/dist-packages/sklearn/base.py:465: UserWarning: X does not have valid feature names, but StandardScaler was fitted with feature names\n",
            "  warnings.warn(\n"
          ]
        }
      ]
    },
    {
      "cell_type": "code",
      "source": [
        "y_pred6= loaded_pipeline.predict(input_data6)\n",
        "print(y_pred6)  #250"
      ],
      "metadata": {
        "colab": {
          "base_uri": "https://localhost:8080/"
        },
        "id": "fG4D0JKWEdST",
        "outputId": "bca4f5ea-3757-48cc-a74b-f959901aff18"
      },
      "execution_count": 472,
      "outputs": [
        {
          "output_type": "stream",
          "name": "stdout",
          "text": [
            "[250.00056]\n"
          ]
        },
        {
          "output_type": "stream",
          "name": "stderr",
          "text": [
            "/usr/local/lib/python3.10/dist-packages/sklearn/base.py:465: UserWarning: X does not have valid feature names, but StandardScaler was fitted with feature names\n",
            "  warnings.warn(\n"
          ]
        }
      ]
    },
    {
      "cell_type": "code",
      "source": [
        "import joblib\n",
        "import time\n",
        "import numpy as np\n",
        "import psutil\n",
        "import os\n"
      ],
      "metadata": {
        "id": "Lp_7hlyo3pRK"
      },
      "execution_count": 473,
      "outputs": []
    },
    {
      "cell_type": "markdown",
      "source": [
        "# Testing both the models"
      ],
      "metadata": {
        "id": "elDpDhsox0dB"
      }
    },
    {
      "cell_type": "code",
      "source": [
        "\n",
        "# Function to measure prediction time and resource usage\n",
        "def measure_resources(filename, X_test):\n",
        "    # Load the model\n",
        "    model = joblib.load(filename)\n",
        "\n",
        "    # Record initial resource usage\n",
        "    process = psutil.Process(os.getpid())\n",
        "    initial_cpu = psutil.cpu_percent(interval=None)\n",
        "    initial_memory = process.memory_info().rss\n",
        "\n",
        "    # Measure prediction time\n",
        "    start_time = time.time()\n",
        "    _ = model.predict(X_test)\n",
        "    prediction_time = time.time() - start_time\n",
        "\n",
        "    # Record resource usage after prediction\n",
        "    final_cpu = psutil.cpu_percent(interval=None)\n",
        "    final_memory = process.memory_info().rss\n",
        "\n",
        "    # Calculate resource usage\n",
        "    cpu_usage = final_cpu - initial_cpu\n",
        "    memory_usage = (final_memory - initial_memory) / (1024 * 1024)  # Convert to MB\n",
        "\n",
        "    print(f\"Prediction Time for model loaded from {filename}: {prediction_time} seconds\")\n",
        "    print(f\"CPU Usage: {cpu_usage}%\")\n",
        "    print(f\"Memory Usage: {memory_usage:.2f} MB\")\n",
        "    return prediction_time, cpu_usage, memory_usage\n",
        "\n",
        "# Example usage:\n",
        "\n",
        "# File names\n",
        "filename1 = 'best_chromium_regressor_pipeline_CV_5.57.joblib'\n",
        "filename2 = 'best_chromium_regressor_pipeline2_CV_5.47.joblib'\n",
        "\n",
        "# Define the sample input data\n",
        "def get_random_test_data(df, num_samples=6):\n",
        "    return df.sample(n=num_samples).drop(columns=['Conc']).values\n",
        "\n",
        "# Get random test data\n",
        "X_test = get_random_test_data(df)\n",
        "\n"
      ],
      "metadata": {
        "id": "hL2oUYFPwXCM"
      },
      "execution_count": 474,
      "outputs": []
    },
    {
      "cell_type": "code",
      "source": [
        "\n",
        "# Evaluate resources for the first model\n",
        "print(\"Evaluating Model 1\")\n",
        "prediction_time1, cpu_usage1, memory_usage1 = measure_resources(filename1, X_test)"
      ],
      "metadata": {
        "colab": {
          "base_uri": "https://localhost:8080/"
        },
        "id": "swfa4AC_3uY-",
        "outputId": "0e526b6d-927c-4a7f-9a87-c73e6cd04899"
      },
      "execution_count": 475,
      "outputs": [
        {
          "output_type": "stream",
          "name": "stdout",
          "text": [
            "Evaluating Model 1\n",
            "Prediction Time for model loaded from best_chromium_regressor_pipeline_CV_5.57.joblib: 0.017373085021972656 seconds\n",
            "CPU Usage: 88.5%\n",
            "Memory Usage: 0.00 MB\n"
          ]
        },
        {
          "output_type": "stream",
          "name": "stderr",
          "text": [
            "/usr/local/lib/python3.10/dist-packages/sklearn/base.py:465: UserWarning: X does not have valid feature names, but StandardScaler was fitted with feature names\n",
            "  warnings.warn(\n"
          ]
        }
      ]
    },
    {
      "cell_type": "code",
      "source": [
        "# Evaluate resources for the second model\n",
        "print(\"Evaluating Model 2\")\n",
        "prediction_time2, cpu_usage2, memory_usage2 = measure_resources(filename2, X_test)"
      ],
      "metadata": {
        "colab": {
          "base_uri": "https://localhost:8080/"
        },
        "id": "x3kTy6Ff3BIT",
        "outputId": "2542658a-a749-45df-aa7a-0dbc8f4cf0ac"
      },
      "execution_count": 476,
      "outputs": [
        {
          "output_type": "stream",
          "name": "stdout",
          "text": [
            "Evaluating Model 2\n",
            "Prediction Time for model loaded from best_chromium_regressor_pipeline2_CV_5.47.joblib: 0.048284292221069336 seconds\n",
            "CPU Usage: 35.2%\n",
            "Memory Usage: 0.00 MB\n"
          ]
        },
        {
          "output_type": "stream",
          "name": "stderr",
          "text": [
            "/usr/local/lib/python3.10/dist-packages/sklearn/base.py:465: UserWarning: X does not have valid feature names, but StandardScaler was fitted with feature names\n",
            "  warnings.warn(\n"
          ]
        }
      ]
    },
    {
      "cell_type": "code",
      "source": [
        "# Compare the results\n",
        "print(\"\\nComparison:\")\n",
        "print(f\"Model 1 - Prediction Time: {prediction_time1} seconds\")\n",
        "print(f\"Model 1 - CPU Usage: {cpu_usage1}%\")\n",
        "print(f\"Model 1 - Memory Usage: {memory_usage1:.2f} MB\")\n",
        "\n",
        "print(f\"Model 2 - Prediction Time: {prediction_time2} seconds\")\n",
        "print(f\"Model 2 - CPU Usage: {cpu_usage2}%\")\n",
        "print(f\"Model 2 - Memory Usage: {memory_usage2:.2f} MB\")"
      ],
      "metadata": {
        "colab": {
          "base_uri": "https://localhost:8080/"
        },
        "id": "O7-z0tsWwXLk",
        "outputId": "2577e018-8ab8-4578-de27-aa28a641e943"
      },
      "execution_count": 477,
      "outputs": [
        {
          "output_type": "stream",
          "name": "stdout",
          "text": [
            "\n",
            "Comparison:\n",
            "Model 1 - Prediction Time: 0.017373085021972656 seconds\n",
            "Model 1 - CPU Usage: 88.5%\n",
            "Model 1 - Memory Usage: 0.00 MB\n",
            "Model 2 - Prediction Time: 0.048284292221069336 seconds\n",
            "Model 2 - CPU Usage: 35.2%\n",
            "Model 2 - Memory Usage: 0.00 MB\n"
          ]
        }
      ]
    },
    {
      "cell_type": "code",
      "source": [
        "\n",
        "if prediction_time1 < prediction_time2:\n",
        "    print(\"Model 1 is more computationally efficient in terms of prediction time.\")\n",
        "else:\n",
        "    print(\"Model 2 is more computationally efficient in terms of prediction time.\")\n",
        "\n",
        "if cpu_usage1 < cpu_usage2:\n",
        "    print(\"Model 1 uses less CPU.\")\n",
        "else:\n",
        "    print(\"Model 2 uses less CPU.\")\n"
      ],
      "metadata": {
        "colab": {
          "base_uri": "https://localhost:8080/"
        },
        "id": "Yz3SYvtJwXOY",
        "outputId": "4763ebce-51f8-46e6-d8af-09c66500bb91"
      },
      "execution_count": 478,
      "outputs": [
        {
          "output_type": "stream",
          "name": "stdout",
          "text": [
            "Model 1 is more computationally efficient in terms of prediction time.\n",
            "Model 2 uses less CPU.\n"
          ]
        }
      ]
    },
    {
      "cell_type": "markdown",
      "source": [
        "Model Comparison\n",
        "Based on the provided metrics, Model 2 appears to be slightly better.\n",
        "\n",
        "....................................................................\n",
        "\n",
        "Key Observations:\n",
        "\n",
        "MAE: Model 2 has a lower MAE, indicating it makes smaller average prediction errors.\n",
        "\n",
        "Average CV Score: Model 2 also has a lower average CV score (MAE), suggesting better generalization performance."
      ],
      "metadata": {
        "id": "-5iYPApEZRRX"
      }
    },
    {
      "cell_type": "markdown",
      "source": [],
      "metadata": {
        "id": "R6rKdxvCZlyu"
      }
    },
    {
      "cell_type": "code",
      "source": [
        "import numpy as np\n",
        "import pandas as pd\n",
        "import xgboost as xgb\n",
        "import sklearn\n",
        "import joblib\n",
        "import scipy\n",
        "\n",
        "print(\"NumPy version:\", np.__version__)\n",
        "print(\"Pandas version:\", pd.__version__)\n",
        "print(\"XGBoost version:\", xgb.__version__)\n",
        "print(\"scikit-learn version:\", sklearn.__version__)\n",
        "print(\"joblib version:\", joblib.__version__)\n",
        "print(\"SciPy version:\", scipy.__version__)"
      ],
      "metadata": {
        "id": "FU5oM9S0wXTp",
        "colab": {
          "base_uri": "https://localhost:8080/"
        },
        "outputId": "4a5f0733-3d66-4c10-8880-7ea180b39505"
      },
      "execution_count": 479,
      "outputs": [
        {
          "output_type": "stream",
          "name": "stdout",
          "text": [
            "NumPy version: 1.26.4\n",
            "Pandas version: 2.1.4\n",
            "XGBoost version: 2.1.0\n",
            "scikit-learn version: 1.3.2\n",
            "joblib version: 1.4.2\n",
            "SciPy version: 1.13.1\n"
          ]
        }
      ]
    },
    {
      "cell_type": "code",
      "source": [],
      "metadata": {
        "id": "MJGya5gIwXXJ"
      },
      "execution_count": 398,
      "outputs": []
    },
    {
      "cell_type": "code",
      "source": [],
      "metadata": {
        "id": "Lbfs3H8DA-wC"
      },
      "execution_count": null,
      "outputs": []
    },
    {
      "cell_type": "markdown",
      "source": [],
      "metadata": {
        "id": "GLio5J9vHquv"
      }
    },
    {
      "cell_type": "markdown",
      "source": [],
      "metadata": {
        "id": "1LzsOsJ1H91P"
      }
    }
  ]
}