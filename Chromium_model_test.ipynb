{
  "nbformat": 4,
  "nbformat_minor": 0,
  "metadata": {
    "colab": {
      "provenance": [],
      "authorship_tag": "ABX9TyMCnlEmj+oL2E+tVosgrk1N",
      "include_colab_link": true
    },
    "kernelspec": {
      "name": "python3",
      "display_name": "Python 3"
    },
    "language_info": {
      "name": "python"
    }
  },
  "cells": [
    {
      "cell_type": "markdown",
      "metadata": {
        "id": "view-in-github",
        "colab_type": "text"
      },
      "source": [
        "<a href=\"https://colab.research.google.com/github/anishjadavpur/Chromium-detector-API/blob/main/Chromium_model_test.ipynb\" target=\"_parent\"><img src=\"https://colab.research.google.com/assets/colab-badge.svg\" alt=\"Open In Colab\"/></a>"
      ]
    },
    {
      "cell_type": "code",
      "execution_count": 46,
      "metadata": {
        "id": "hNdodYVsaMy9"
      },
      "outputs": [],
      "source": [
        "from joblib import load\n",
        "import numpy as np\n",
        "import pandas as pd"
      ]
    },
    {
      "cell_type": "code",
      "source": [
        "df= pd.read_csv(r\"/content/Chromium_cleaned_final.csv\")\n",
        "df.set_index(\"TestNO\",inplace=True)"
      ],
      "metadata": {
        "id": "2qrHvkS7aON1"
      },
      "execution_count": 47,
      "outputs": []
    },
    {
      "cell_type": "code",
      "source": [
        "df"
      ],
      "metadata": {
        "colab": {
          "base_uri": "https://localhost:8080/",
          "height": 455
        },
        "id": "iTAVCreqexhW",
        "outputId": "d518d967-cd5c-4fe2-dcd0-2139ab59833b"
      },
      "execution_count": 48,
      "outputs": [
        {
          "output_type": "execute_result",
          "data": {
            "text/plain": [
              "            B       G      R      b      H  Conc\n",
              "TestNO                                          \n",
              "1       78.79  119.07  56.63  144.2  70.60   500\n",
              "1       88.77  120.10  80.05  140.8  66.58   250\n",
              "2       92.00  129.00  94.00  144.0  58.00    25\n",
              "2       92.00  129.00  92.00  144.0  60.00    50\n",
              "2       89.54  122.94  85.67  142.2  63.12   250\n",
              "...       ...     ...    ...    ...    ...   ...\n",
              "496     94.00  131.00  96.00  144.0  58.00    25\n",
              "497     92.00  129.00  94.00  144.0  58.00    25\n",
              "498     93.00  130.00  96.00  144.0  58.00    25\n",
              "499     92.00  129.00  95.00  144.0  58.00    25\n",
              "500     92.00  128.00  94.00  144.0  58.00    25\n",
              "\n",
              "[1715 rows x 6 columns]"
            ],
            "text/html": [
              "\n",
              "  <div id=\"df-24319d2b-b32f-475e-955c-ff744018d4f7\" class=\"colab-df-container\">\n",
              "    <div>\n",
              "<style scoped>\n",
              "    .dataframe tbody tr th:only-of-type {\n",
              "        vertical-align: middle;\n",
              "    }\n",
              "\n",
              "    .dataframe tbody tr th {\n",
              "        vertical-align: top;\n",
              "    }\n",
              "\n",
              "    .dataframe thead th {\n",
              "        text-align: right;\n",
              "    }\n",
              "</style>\n",
              "<table border=\"1\" class=\"dataframe\">\n",
              "  <thead>\n",
              "    <tr style=\"text-align: right;\">\n",
              "      <th></th>\n",
              "      <th>B</th>\n",
              "      <th>G</th>\n",
              "      <th>R</th>\n",
              "      <th>b</th>\n",
              "      <th>H</th>\n",
              "      <th>Conc</th>\n",
              "    </tr>\n",
              "    <tr>\n",
              "      <th>TestNO</th>\n",
              "      <th></th>\n",
              "      <th></th>\n",
              "      <th></th>\n",
              "      <th></th>\n",
              "      <th></th>\n",
              "      <th></th>\n",
              "    </tr>\n",
              "  </thead>\n",
              "  <tbody>\n",
              "    <tr>\n",
              "      <th>1</th>\n",
              "      <td>78.79</td>\n",
              "      <td>119.07</td>\n",
              "      <td>56.63</td>\n",
              "      <td>144.2</td>\n",
              "      <td>70.60</td>\n",
              "      <td>500</td>\n",
              "    </tr>\n",
              "    <tr>\n",
              "      <th>1</th>\n",
              "      <td>88.77</td>\n",
              "      <td>120.10</td>\n",
              "      <td>80.05</td>\n",
              "      <td>140.8</td>\n",
              "      <td>66.58</td>\n",
              "      <td>250</td>\n",
              "    </tr>\n",
              "    <tr>\n",
              "      <th>2</th>\n",
              "      <td>92.00</td>\n",
              "      <td>129.00</td>\n",
              "      <td>94.00</td>\n",
              "      <td>144.0</td>\n",
              "      <td>58.00</td>\n",
              "      <td>25</td>\n",
              "    </tr>\n",
              "    <tr>\n",
              "      <th>2</th>\n",
              "      <td>92.00</td>\n",
              "      <td>129.00</td>\n",
              "      <td>92.00</td>\n",
              "      <td>144.0</td>\n",
              "      <td>60.00</td>\n",
              "      <td>50</td>\n",
              "    </tr>\n",
              "    <tr>\n",
              "      <th>2</th>\n",
              "      <td>89.54</td>\n",
              "      <td>122.94</td>\n",
              "      <td>85.67</td>\n",
              "      <td>142.2</td>\n",
              "      <td>63.12</td>\n",
              "      <td>250</td>\n",
              "    </tr>\n",
              "    <tr>\n",
              "      <th>...</th>\n",
              "      <td>...</td>\n",
              "      <td>...</td>\n",
              "      <td>...</td>\n",
              "      <td>...</td>\n",
              "      <td>...</td>\n",
              "      <td>...</td>\n",
              "    </tr>\n",
              "    <tr>\n",
              "      <th>496</th>\n",
              "      <td>94.00</td>\n",
              "      <td>131.00</td>\n",
              "      <td>96.00</td>\n",
              "      <td>144.0</td>\n",
              "      <td>58.00</td>\n",
              "      <td>25</td>\n",
              "    </tr>\n",
              "    <tr>\n",
              "      <th>497</th>\n",
              "      <td>92.00</td>\n",
              "      <td>129.00</td>\n",
              "      <td>94.00</td>\n",
              "      <td>144.0</td>\n",
              "      <td>58.00</td>\n",
              "      <td>25</td>\n",
              "    </tr>\n",
              "    <tr>\n",
              "      <th>498</th>\n",
              "      <td>93.00</td>\n",
              "      <td>130.00</td>\n",
              "      <td>96.00</td>\n",
              "      <td>144.0</td>\n",
              "      <td>58.00</td>\n",
              "      <td>25</td>\n",
              "    </tr>\n",
              "    <tr>\n",
              "      <th>499</th>\n",
              "      <td>92.00</td>\n",
              "      <td>129.00</td>\n",
              "      <td>95.00</td>\n",
              "      <td>144.0</td>\n",
              "      <td>58.00</td>\n",
              "      <td>25</td>\n",
              "    </tr>\n",
              "    <tr>\n",
              "      <th>500</th>\n",
              "      <td>92.00</td>\n",
              "      <td>128.00</td>\n",
              "      <td>94.00</td>\n",
              "      <td>144.0</td>\n",
              "      <td>58.00</td>\n",
              "      <td>25</td>\n",
              "    </tr>\n",
              "  </tbody>\n",
              "</table>\n",
              "<p>1715 rows × 6 columns</p>\n",
              "</div>\n",
              "    <div class=\"colab-df-buttons\">\n",
              "\n",
              "  <div class=\"colab-df-container\">\n",
              "    <button class=\"colab-df-convert\" onclick=\"convertToInteractive('df-24319d2b-b32f-475e-955c-ff744018d4f7')\"\n",
              "            title=\"Convert this dataframe to an interactive table.\"\n",
              "            style=\"display:none;\">\n",
              "\n",
              "  <svg xmlns=\"http://www.w3.org/2000/svg\" height=\"24px\" viewBox=\"0 -960 960 960\">\n",
              "    <path d=\"M120-120v-720h720v720H120Zm60-500h600v-160H180v160Zm220 220h160v-160H400v160Zm0 220h160v-160H400v160ZM180-400h160v-160H180v160Zm440 0h160v-160H620v160ZM180-180h160v-160H180v160Zm440 0h160v-160H620v160Z\"/>\n",
              "  </svg>\n",
              "    </button>\n",
              "\n",
              "  <style>\n",
              "    .colab-df-container {\n",
              "      display:flex;\n",
              "      gap: 12px;\n",
              "    }\n",
              "\n",
              "    .colab-df-convert {\n",
              "      background-color: #E8F0FE;\n",
              "      border: none;\n",
              "      border-radius: 50%;\n",
              "      cursor: pointer;\n",
              "      display: none;\n",
              "      fill: #1967D2;\n",
              "      height: 32px;\n",
              "      padding: 0 0 0 0;\n",
              "      width: 32px;\n",
              "    }\n",
              "\n",
              "    .colab-df-convert:hover {\n",
              "      background-color: #E2EBFA;\n",
              "      box-shadow: 0px 1px 2px rgba(60, 64, 67, 0.3), 0px 1px 3px 1px rgba(60, 64, 67, 0.15);\n",
              "      fill: #174EA6;\n",
              "    }\n",
              "\n",
              "    .colab-df-buttons div {\n",
              "      margin-bottom: 4px;\n",
              "    }\n",
              "\n",
              "    [theme=dark] .colab-df-convert {\n",
              "      background-color: #3B4455;\n",
              "      fill: #D2E3FC;\n",
              "    }\n",
              "\n",
              "    [theme=dark] .colab-df-convert:hover {\n",
              "      background-color: #434B5C;\n",
              "      box-shadow: 0px 1px 3px 1px rgba(0, 0, 0, 0.15);\n",
              "      filter: drop-shadow(0px 1px 2px rgba(0, 0, 0, 0.3));\n",
              "      fill: #FFFFFF;\n",
              "    }\n",
              "  </style>\n",
              "\n",
              "    <script>\n",
              "      const buttonEl =\n",
              "        document.querySelector('#df-24319d2b-b32f-475e-955c-ff744018d4f7 button.colab-df-convert');\n",
              "      buttonEl.style.display =\n",
              "        google.colab.kernel.accessAllowed ? 'block' : 'none';\n",
              "\n",
              "      async function convertToInteractive(key) {\n",
              "        const element = document.querySelector('#df-24319d2b-b32f-475e-955c-ff744018d4f7');\n",
              "        const dataTable =\n",
              "          await google.colab.kernel.invokeFunction('convertToInteractive',\n",
              "                                                    [key], {});\n",
              "        if (!dataTable) return;\n",
              "\n",
              "        const docLinkHtml = 'Like what you see? Visit the ' +\n",
              "          '<a target=\"_blank\" href=https://colab.research.google.com/notebooks/data_table.ipynb>data table notebook</a>'\n",
              "          + ' to learn more about interactive tables.';\n",
              "        element.innerHTML = '';\n",
              "        dataTable['output_type'] = 'display_data';\n",
              "        await google.colab.output.renderOutput(dataTable, element);\n",
              "        const docLink = document.createElement('div');\n",
              "        docLink.innerHTML = docLinkHtml;\n",
              "        element.appendChild(docLink);\n",
              "      }\n",
              "    </script>\n",
              "  </div>\n",
              "\n",
              "\n",
              "<div id=\"df-3e53cdaf-f951-48bd-b0ae-9ec3486bfad7\">\n",
              "  <button class=\"colab-df-quickchart\" onclick=\"quickchart('df-3e53cdaf-f951-48bd-b0ae-9ec3486bfad7')\"\n",
              "            title=\"Suggest charts\"\n",
              "            style=\"display:none;\">\n",
              "\n",
              "<svg xmlns=\"http://www.w3.org/2000/svg\" height=\"24px\"viewBox=\"0 0 24 24\"\n",
              "     width=\"24px\">\n",
              "    <g>\n",
              "        <path d=\"M19 3H5c-1.1 0-2 .9-2 2v14c0 1.1.9 2 2 2h14c1.1 0 2-.9 2-2V5c0-1.1-.9-2-2-2zM9 17H7v-7h2v7zm4 0h-2V7h2v10zm4 0h-2v-4h2v4z\"/>\n",
              "    </g>\n",
              "</svg>\n",
              "  </button>\n",
              "\n",
              "<style>\n",
              "  .colab-df-quickchart {\n",
              "      --bg-color: #E8F0FE;\n",
              "      --fill-color: #1967D2;\n",
              "      --hover-bg-color: #E2EBFA;\n",
              "      --hover-fill-color: #174EA6;\n",
              "      --disabled-fill-color: #AAA;\n",
              "      --disabled-bg-color: #DDD;\n",
              "  }\n",
              "\n",
              "  [theme=dark] .colab-df-quickchart {\n",
              "      --bg-color: #3B4455;\n",
              "      --fill-color: #D2E3FC;\n",
              "      --hover-bg-color: #434B5C;\n",
              "      --hover-fill-color: #FFFFFF;\n",
              "      --disabled-bg-color: #3B4455;\n",
              "      --disabled-fill-color: #666;\n",
              "  }\n",
              "\n",
              "  .colab-df-quickchart {\n",
              "    background-color: var(--bg-color);\n",
              "    border: none;\n",
              "    border-radius: 50%;\n",
              "    cursor: pointer;\n",
              "    display: none;\n",
              "    fill: var(--fill-color);\n",
              "    height: 32px;\n",
              "    padding: 0;\n",
              "    width: 32px;\n",
              "  }\n",
              "\n",
              "  .colab-df-quickchart:hover {\n",
              "    background-color: var(--hover-bg-color);\n",
              "    box-shadow: 0 1px 2px rgba(60, 64, 67, 0.3), 0 1px 3px 1px rgba(60, 64, 67, 0.15);\n",
              "    fill: var(--button-hover-fill-color);\n",
              "  }\n",
              "\n",
              "  .colab-df-quickchart-complete:disabled,\n",
              "  .colab-df-quickchart-complete:disabled:hover {\n",
              "    background-color: var(--disabled-bg-color);\n",
              "    fill: var(--disabled-fill-color);\n",
              "    box-shadow: none;\n",
              "  }\n",
              "\n",
              "  .colab-df-spinner {\n",
              "    border: 2px solid var(--fill-color);\n",
              "    border-color: transparent;\n",
              "    border-bottom-color: var(--fill-color);\n",
              "    animation:\n",
              "      spin 1s steps(1) infinite;\n",
              "  }\n",
              "\n",
              "  @keyframes spin {\n",
              "    0% {\n",
              "      border-color: transparent;\n",
              "      border-bottom-color: var(--fill-color);\n",
              "      border-left-color: var(--fill-color);\n",
              "    }\n",
              "    20% {\n",
              "      border-color: transparent;\n",
              "      border-left-color: var(--fill-color);\n",
              "      border-top-color: var(--fill-color);\n",
              "    }\n",
              "    30% {\n",
              "      border-color: transparent;\n",
              "      border-left-color: var(--fill-color);\n",
              "      border-top-color: var(--fill-color);\n",
              "      border-right-color: var(--fill-color);\n",
              "    }\n",
              "    40% {\n",
              "      border-color: transparent;\n",
              "      border-right-color: var(--fill-color);\n",
              "      border-top-color: var(--fill-color);\n",
              "    }\n",
              "    60% {\n",
              "      border-color: transparent;\n",
              "      border-right-color: var(--fill-color);\n",
              "    }\n",
              "    80% {\n",
              "      border-color: transparent;\n",
              "      border-right-color: var(--fill-color);\n",
              "      border-bottom-color: var(--fill-color);\n",
              "    }\n",
              "    90% {\n",
              "      border-color: transparent;\n",
              "      border-bottom-color: var(--fill-color);\n",
              "    }\n",
              "  }\n",
              "</style>\n",
              "\n",
              "  <script>\n",
              "    async function quickchart(key) {\n",
              "      const quickchartButtonEl =\n",
              "        document.querySelector('#' + key + ' button');\n",
              "      quickchartButtonEl.disabled = true;  // To prevent multiple clicks.\n",
              "      quickchartButtonEl.classList.add('colab-df-spinner');\n",
              "      try {\n",
              "        const charts = await google.colab.kernel.invokeFunction(\n",
              "            'suggestCharts', [key], {});\n",
              "      } catch (error) {\n",
              "        console.error('Error during call to suggestCharts:', error);\n",
              "      }\n",
              "      quickchartButtonEl.classList.remove('colab-df-spinner');\n",
              "      quickchartButtonEl.classList.add('colab-df-quickchart-complete');\n",
              "    }\n",
              "    (() => {\n",
              "      let quickchartButtonEl =\n",
              "        document.querySelector('#df-3e53cdaf-f951-48bd-b0ae-9ec3486bfad7 button');\n",
              "      quickchartButtonEl.style.display =\n",
              "        google.colab.kernel.accessAllowed ? 'block' : 'none';\n",
              "    })();\n",
              "  </script>\n",
              "</div>\n",
              "\n",
              "  <div id=\"id_72ac705d-947a-404f-80c4-8ac662d94973\">\n",
              "    <style>\n",
              "      .colab-df-generate {\n",
              "        background-color: #E8F0FE;\n",
              "        border: none;\n",
              "        border-radius: 50%;\n",
              "        cursor: pointer;\n",
              "        display: none;\n",
              "        fill: #1967D2;\n",
              "        height: 32px;\n",
              "        padding: 0 0 0 0;\n",
              "        width: 32px;\n",
              "      }\n",
              "\n",
              "      .colab-df-generate:hover {\n",
              "        background-color: #E2EBFA;\n",
              "        box-shadow: 0px 1px 2px rgba(60, 64, 67, 0.3), 0px 1px 3px 1px rgba(60, 64, 67, 0.15);\n",
              "        fill: #174EA6;\n",
              "      }\n",
              "\n",
              "      [theme=dark] .colab-df-generate {\n",
              "        background-color: #3B4455;\n",
              "        fill: #D2E3FC;\n",
              "      }\n",
              "\n",
              "      [theme=dark] .colab-df-generate:hover {\n",
              "        background-color: #434B5C;\n",
              "        box-shadow: 0px 1px 3px 1px rgba(0, 0, 0, 0.15);\n",
              "        filter: drop-shadow(0px 1px 2px rgba(0, 0, 0, 0.3));\n",
              "        fill: #FFFFFF;\n",
              "      }\n",
              "    </style>\n",
              "    <button class=\"colab-df-generate\" onclick=\"generateWithVariable('df')\"\n",
              "            title=\"Generate code using this dataframe.\"\n",
              "            style=\"display:none;\">\n",
              "\n",
              "  <svg xmlns=\"http://www.w3.org/2000/svg\" height=\"24px\"viewBox=\"0 0 24 24\"\n",
              "       width=\"24px\">\n",
              "    <path d=\"M7,19H8.4L18.45,9,17,7.55,7,17.6ZM5,21V16.75L18.45,3.32a2,2,0,0,1,2.83,0l1.4,1.43a1.91,1.91,0,0,1,.58,1.4,1.91,1.91,0,0,1-.58,1.4L9.25,21ZM18.45,9,17,7.55Zm-12,3A5.31,5.31,0,0,0,4.9,8.1,5.31,5.31,0,0,0,1,6.5,5.31,5.31,0,0,0,4.9,4.9,5.31,5.31,0,0,0,6.5,1,5.31,5.31,0,0,0,8.1,4.9,5.31,5.31,0,0,0,12,6.5,5.46,5.46,0,0,0,6.5,12Z\"/>\n",
              "  </svg>\n",
              "    </button>\n",
              "    <script>\n",
              "      (() => {\n",
              "      const buttonEl =\n",
              "        document.querySelector('#id_72ac705d-947a-404f-80c4-8ac662d94973 button.colab-df-generate');\n",
              "      buttonEl.style.display =\n",
              "        google.colab.kernel.accessAllowed ? 'block' : 'none';\n",
              "\n",
              "      buttonEl.onclick = () => {\n",
              "        google.colab.notebook.generateWithVariable('df');\n",
              "      }\n",
              "      })();\n",
              "    </script>\n",
              "  </div>\n",
              "\n",
              "    </div>\n",
              "  </div>\n"
            ],
            "application/vnd.google.colaboratory.intrinsic+json": {
              "type": "dataframe",
              "variable_name": "df",
              "summary": "{\n  \"name\": \"df\",\n  \"rows\": 1715,\n  \"fields\": [\n    {\n      \"column\": \"TestNO\",\n      \"properties\": {\n        \"dtype\": \"number\",\n        \"std\": 120,\n        \"min\": 1,\n        \"max\": 500,\n        \"num_unique_values\": 444,\n        \"samples\": [\n          335,\n          138,\n          73\n        ],\n        \"semantic_type\": \"\",\n        \"description\": \"\"\n      }\n    },\n    {\n      \"column\": \"B\",\n      \"properties\": {\n        \"dtype\": \"number\",\n        \"std\": 5.061028072139126,\n        \"min\": 76.6,\n        \"max\": 99.0,\n        \"num_unique_values\": 741,\n        \"samples\": [\n          91.81,\n          89.08,\n          80.2\n        ],\n        \"semantic_type\": \"\",\n        \"description\": \"\"\n      }\n    },\n    {\n      \"column\": \"G\",\n      \"properties\": {\n        \"dtype\": \"number\",\n        \"std\": 4.580651254305509,\n        \"min\": 116.87,\n        \"max\": 136.0,\n        \"num_unique_values\": 697,\n        \"samples\": [\n          121.06,\n          126.92,\n          119.21\n        ],\n        \"semantic_type\": \"\",\n        \"description\": \"\"\n      }\n    },\n    {\n      \"column\": \"R\",\n      \"properties\": {\n        \"dtype\": \"number\",\n        \"std\": 12.199309904144702,\n        \"min\": 53.35,\n        \"max\": 101.0,\n        \"num_unique_values\": 882,\n        \"samples\": [\n          89.54,\n          58.1,\n          81.47\n        ],\n        \"semantic_type\": \"\",\n        \"description\": \"\"\n      }\n    },\n    {\n      \"column\": \"b\",\n      \"properties\": {\n        \"dtype\": \"number\",\n        \"std\": 1.6820806935410086,\n        \"min\": 139.76,\n        \"max\": 148.79,\n        \"num_unique_values\": 559,\n        \"samples\": [\n          145.85,\n          144.68,\n          145.34\n        ],\n        \"semantic_type\": \"\",\n        \"description\": \"\"\n      }\n    },\n    {\n      \"column\": \"H\",\n      \"properties\": {\n        \"dtype\": \"number\",\n        \"std\": 4.430603210323831,\n        \"min\": 54.67,\n        \"max\": 70.82,\n        \"num_unique_values\": 735,\n        \"samples\": [\n          55.45,\n          70.35,\n          60.74\n        ],\n        \"semantic_type\": \"\",\n        \"description\": \"\"\n      }\n    },\n    {\n      \"column\": \"Conc\",\n      \"properties\": {\n        \"dtype\": \"number\",\n        \"std\": 174,\n        \"min\": 25,\n        \"max\": 500,\n        \"num_unique_values\": 5,\n        \"samples\": [\n          250,\n          100,\n          25\n        ],\n        \"semantic_type\": \"\",\n        \"description\": \"\"\n      }\n    }\n  ]\n}"
            }
          },
          "metadata": {},
          "execution_count": 48
        }
      ]
    },
    {
      "cell_type": "code",
      "source": [
        "# df=df.drop(columns=['L','a','S','I'])"
      ],
      "metadata": {
        "id": "mODI43sye0d0"
      },
      "execution_count": 49,
      "outputs": []
    },
    {
      "cell_type": "code",
      "source": [
        "# File names\n",
        "filename1 = 'best_chromium_regressor_pipeline_Model1.joblib'\n",
        "filename2 = 'best_chromium_regressor_pipeline2 (2).joblib'\n",
        "filename3 = 'best_chromium_regressor_pipeline3.joblib'\n"
      ],
      "metadata": {
        "id": "jz1APGaTaQyP"
      },
      "execution_count": 50,
      "outputs": []
    },
    {
      "cell_type": "code",
      "source": [
        "import joblib\n",
        "import time\n",
        "import numpy as np\n",
        "import psutil\n",
        "import os\n",
        "import pandas as pd\n",
        "from sklearn.metrics import mean_squared_error, mean_absolute_error, mean_absolute_percentage_error, r2_score"
      ],
      "metadata": {
        "id": "3G8s-VAVaiJL"
      },
      "execution_count": 51,
      "outputs": []
    },
    {
      "cell_type": "code",
      "source": [
        "def calculate_adjusted_r2(r2, n, p):\n",
        "    if n > p:\n",
        "        adj_r2 = 1 - (1 - r2) * (n - 1) / (n - p - 1)\n",
        "    else:\n",
        "        adj_r2 = float('-inf')  # Or some other indicator of invalid result\n",
        "    return adj_r2\n",
        "\n",
        "\n",
        "\n",
        "def measure_resources(filename, X_test, y_test):\n",
        "    # Load the model\n",
        "    model = joblib.load(filename)\n",
        "\n",
        "    # Record initial resource usage\n",
        "    process = psutil.Process(os.getpid())\n",
        "    initial_cpu = psutil.cpu_percent(interval=None)\n",
        "    initial_memory = process.memory_info().rss\n",
        "\n",
        "    # Measure prediction time\n",
        "    start_time = time.time()\n",
        "    y_pred = model.predict(X_test)\n",
        "    prediction_time = time.time() - start_time\n",
        "\n",
        "    # Record resource usage after prediction\n",
        "    final_cpu = psutil.cpu_percent(interval=None)\n",
        "    final_memory = process.memory_info().rss\n",
        "\n",
        "    # Calculate resource usage\n",
        "    cpu_usage = final_cpu - initial_cpu\n",
        "    memory_usage = (final_memory - initial_memory) / (1024 * 1024)  # Convert to MB\n",
        "\n",
        "    # Calculate performance metrics\n",
        "    mse = mean_squared_error(y_test, y_pred)\n",
        "    rmse = np.sqrt(mse)\n",
        "    mae = mean_absolute_error(y_test, y_pred)\n",
        "    mape = mean_absolute_percentage_error(y_test, y_pred)\n",
        "    r2 = r2_score(y_test, y_pred)\n",
        "    adj_r2 = calculate_adjusted_r2(r2, len(y_test), X_test.shape[1])\n",
        "\n",
        "    # Print the results\n",
        "    print(f\"Prediction Time for model loaded from {filename}: {prediction_time} seconds\")\n",
        "    print(f\"CPU Usage: {cpu_usage}%\")\n",
        "    print(f\"Memory Usage: {memory_usage:.2f} MB\")\n",
        "    print(\"Performance Metrics:\")\n",
        "    print(f\"MSE: {mse}\")\n",
        "    print(f\"RMSE: {rmse}\")\n",
        "    print(f\"MAE: {mae}\")\n",
        "    print(f\"MAPE: {mape}\")\n",
        "    print(f\"R-squared: {r2}\")\n",
        "    print(f\"Adjusted R-squared: {adj_r2}\")\n",
        "\n",
        "    return prediction_time, cpu_usage, memory_usage, mse, rmse, mae, mape, r2, adj_r2\n",
        "\n"
      ],
      "metadata": {
        "id": "vG2_K7REauDL"
      },
      "execution_count": 52,
      "outputs": []
    },
    {
      "cell_type": "code",
      "source": [
        "random_states = [21, 42, 100, 200]\n",
        "\n",
        "# def get_random_test_data(df, num_samples=6, num_iterations=10, random_state=21):\n",
        "#     np.random.seed(random_state)  # Set the random seed for reproducibility\n",
        "#     X_tests = []\n",
        "#     y_tests = []\n",
        "#     for _ in range(num_iterations):\n",
        "#         sampled_df = df.sample(n=num_samples, random_state=random_state)\n",
        "#         X_test = sampled_df.drop(columns=['Conc']).values\n",
        "#         y_test = sampled_df['Conc'].values\n",
        "#         X_tests.append(X_test)\n",
        "#         y_tests.append(y_test)\n",
        "#     return X_tests, y_tests\n",
        "\n",
        "# # Get random test data\n",
        "# X_tests, y_tests = get_random_test_data(df, num_samples=20, num_iterations=5)\n",
        "\n",
        "def get_random_test_data(df, num_samples=20, random_state=21):\n",
        "    np.random.seed(random_state)  # Set the random seed for reproducibility\n",
        "    sampled_df = df.sample(n=num_samples, random_state=random_state)\n",
        "    X_test = sampled_df.drop(columns=['Conc']).values\n",
        "    y_test = sampled_df['Conc'].values\n",
        "    return X_test, y_test\n",
        "\n",
        "def evaluate_for_random_states(df, random_states, num_samples=30):\n",
        "    results = {state: [] for state in random_states}\n",
        "\n",
        "    for state in random_states:\n",
        "        X_tests = []\n",
        "        y_tests = []\n",
        "        for _ in range(10):  # Number of iterations\n",
        "            X_test, y_test = get_random_test_data(df, num_samples=num_samples, random_state=state)\n",
        "            X_tests.append(X_test)\n",
        "            y_tests.append(y_test)\n",
        "\n",
        "        for X_test, y_test in zip(X_tests, y_tests):\n",
        "            print(f\"Evaluating Model 1 - Random State {state}\")\n",
        "            result1 = measure_resources(filename1, X_test, y_test)\n",
        "            print(f\"Evaluating Model 2 - Random State {state}\")\n",
        "            result2 = measure_resources(filename2, X_test, y_test)\n",
        "            print(f\"Evaluating Model 3 - Random State {state}\")\n",
        "            result3 = measure_resources(filename3, X_test, y_test)\n",
        "\n",
        "            results[state].append((result1, result2, result3))\n",
        "\n",
        "    return results\n",
        "\n",
        "def average_results(results):\n",
        "    num_states = len(results)\n",
        "\n",
        "    all_results1 = []\n",
        "    all_results2 = []\n",
        "    all_results3 = []\n",
        "\n",
        "    for state in results:\n",
        "        for result1, result2, result3 in results[state]:\n",
        "            all_results1.append(result1)\n",
        "            all_results2.append(result2)\n",
        "            all_results3.append(result3)\n",
        "\n",
        "    def average(metrics):\n",
        "        return np.mean(metrics, axis=0)\n",
        "\n",
        "    avg_results1 = average(all_results1)\n",
        "    avg_results2 = average(all_results2)\n",
        "    avg_results3 = average(all_results3)\n",
        "\n",
        "    return avg_results1, avg_results2, avg_results3\n",
        "\n",
        "# Example usage\n",
        "results = evaluate_for_random_states(df, random_states=[21, 42, 100])\n",
        "average_results1, average_results2, average_results3 = average_results(results)\n",
        "\n",
        "print(\"Average Results for Model 1:\", average_results1)\n",
        "print(\"Average Results for Model 2:\", average_results2)\n",
        "print(\"Average Results for Model 3:\", average_results3)\n"
      ],
      "metadata": {
        "colab": {
          "base_uri": "https://localhost:8080/"
        },
        "id": "qE6kS_mOdd68",
        "outputId": "9d465c1a-a894-4b02-a93d-fb41159043d0"
      },
      "execution_count": 53,
      "outputs": [
        {
          "output_type": "stream",
          "name": "stdout",
          "text": [
            "Evaluating Model 1 - Random State 21\n",
            "Prediction Time for model loaded from best_chromium_regressor_pipeline_Model1.joblib: 0.018854618072509766 seconds\n",
            "CPU Usage: 46.800000000000004%\n",
            "Memory Usage: 0.00 MB\n",
            "Performance Metrics:\n",
            "MSE: 33.607929268299266\n",
            "RMSE: 5.79723462249884\n",
            "MAE: 1.8589353561401367\n",
            "MAPE: 0.019510205586751303\n",
            "R-squared: 0.9990260335658526\n",
            "Adjusted R-squared: 0.998823123892072\n",
            "Evaluating Model 2 - Random State 21\n"
          ]
        },
        {
          "output_type": "stream",
          "name": "stderr",
          "text": [
            "/usr/local/lib/python3.10/dist-packages/sklearn/base.py:465: UserWarning: X does not have valid feature names, but StandardScaler was fitted with feature names\n",
            "  warnings.warn(\n",
            "/usr/local/lib/python3.10/dist-packages/sklearn/base.py:465: UserWarning: X does not have valid feature names, but StandardScaler was fitted with feature names\n",
            "  warnings.warn(\n"
          ]
        },
        {
          "output_type": "stream",
          "name": "stdout",
          "text": [
            "Prediction Time for model loaded from best_chromium_regressor_pipeline2 (2).joblib: 0.039022207260131836 seconds\n",
            "CPU Usage: 8.900000000000006%\n",
            "Memory Usage: 0.00 MB\n",
            "Performance Metrics:\n",
            "MSE: 21.551682045663984\n",
            "RMSE: 4.64237892094818\n",
            "MAE: 1.050514030456543\n",
            "MAPE: 0.0067021443684895845\n",
            "R-squared: 0.9993754267112287\n",
            "Adjusted R-squared: 0.999245307276068\n",
            "Evaluating Model 3 - Random State 21\n"
          ]
        },
        {
          "output_type": "stream",
          "name": "stderr",
          "text": [
            "/usr/local/lib/python3.10/dist-packages/sklearn/base.py:465: UserWarning: X does not have valid feature names, but StandardScaler was fitted with feature names\n",
            "  warnings.warn(\n",
            "/usr/local/lib/python3.10/dist-packages/sklearn/base.py:465: UserWarning: X does not have valid feature names, but StandardScaler was fitted with feature names\n",
            "  warnings.warn(\n"
          ]
        },
        {
          "output_type": "stream",
          "name": "stdout",
          "text": [
            "Prediction Time for model loaded from best_chromium_regressor_pipeline3.joblib: 0.051416635513305664 seconds\n",
            "CPU Usage: 6.799999999999997%\n",
            "Memory Usage: 0.00 MB\n",
            "Performance Metrics:\n",
            "MSE: 888.1082513881265\n",
            "RMSE: 29.80114513551663\n",
            "MAE: 5.985460662841797\n",
            "MAPE: 0.03223276977539063\n",
            "R-squared: 0.9742623944535229\n",
            "Adjusted R-squared: 0.9689003932980068\n",
            "Evaluating Model 1 - Random State 21\n",
            "Prediction Time for model loaded from best_chromium_regressor_pipeline_Model1.joblib: 0.01756429672241211 seconds\n",
            "CPU Usage: 6.599999999999994%\n",
            "Memory Usage: 0.00 MB\n",
            "Performance Metrics:\n",
            "MSE: 33.607929268299266\n",
            "RMSE: 5.79723462249884\n",
            "MAE: 1.8589353561401367\n",
            "MAPE: 0.019510205586751303\n",
            "R-squared: 0.9990260335658526\n",
            "Adjusted R-squared: 0.998823123892072\n",
            "Evaluating Model 2 - Random State 21\n"
          ]
        },
        {
          "output_type": "stream",
          "name": "stderr",
          "text": [
            "/usr/local/lib/python3.10/dist-packages/sklearn/base.py:465: UserWarning: X does not have valid feature names, but StandardScaler was fitted with feature names\n",
            "  warnings.warn(\n"
          ]
        },
        {
          "output_type": "stream",
          "name": "stdout",
          "text": [
            "Prediction Time for model loaded from best_chromium_regressor_pipeline2 (2).joblib: 0.030849695205688477 seconds\n",
            "CPU Usage: -2.0999999999999943%\n",
            "Memory Usage: 0.00 MB\n",
            "Performance Metrics:\n",
            "MSE: 21.551682045663984\n",
            "RMSE: 4.64237892094818\n",
            "MAE: 1.050514030456543\n",
            "MAPE: 0.0067021443684895845\n",
            "R-squared: 0.9993754267112287\n",
            "Adjusted R-squared: 0.999245307276068\n",
            "Evaluating Model 3 - Random State 21\n"
          ]
        },
        {
          "output_type": "stream",
          "name": "stderr",
          "text": [
            "/usr/local/lib/python3.10/dist-packages/sklearn/base.py:465: UserWarning: X does not have valid feature names, but StandardScaler was fitted with feature names\n",
            "  warnings.warn(\n",
            "/usr/local/lib/python3.10/dist-packages/sklearn/base.py:465: UserWarning: X does not have valid feature names, but StandardScaler was fitted with feature names\n",
            "  warnings.warn(\n"
          ]
        },
        {
          "output_type": "stream",
          "name": "stdout",
          "text": [
            "Prediction Time for model loaded from best_chromium_regressor_pipeline3.joblib: 0.06220507621765137 seconds\n",
            "CPU Usage: 5.800000000000011%\n",
            "Memory Usage: 0.00 MB\n",
            "Performance Metrics:\n",
            "MSE: 888.1082513881265\n",
            "RMSE: 29.80114513551663\n",
            "MAE: 5.985460662841797\n",
            "MAPE: 0.03223276977539063\n",
            "R-squared: 0.9742623944535229\n",
            "Adjusted R-squared: 0.9689003932980068\n",
            "Evaluating Model 1 - Random State 21\n",
            "Prediction Time for model loaded from best_chromium_regressor_pipeline_Model1.joblib: 0.018309831619262695 seconds\n",
            "CPU Usage: -17.299999999999997%\n",
            "Memory Usage: 0.00 MB\n",
            "Performance Metrics:\n",
            "MSE: 33.607929268299266\n",
            "RMSE: 5.79723462249884\n",
            "MAE: 1.8589353561401367\n",
            "MAPE: 0.019510205586751303\n",
            "R-squared: 0.9990260335658526\n",
            "Adjusted R-squared: 0.998823123892072\n",
            "Evaluating Model 2 - Random State 21\n"
          ]
        },
        {
          "output_type": "stream",
          "name": "stderr",
          "text": [
            "/usr/local/lib/python3.10/dist-packages/sklearn/base.py:465: UserWarning: X does not have valid feature names, but StandardScaler was fitted with feature names\n",
            "  warnings.warn(\n"
          ]
        },
        {
          "output_type": "stream",
          "name": "stdout",
          "text": [
            "Prediction Time for model loaded from best_chromium_regressor_pipeline2 (2).joblib: 0.037070512771606445 seconds\n",
            "CPU Usage: -4.200000000000003%\n",
            "Memory Usage: 0.00 MB\n",
            "Performance Metrics:\n",
            "MSE: 21.551682045663984\n",
            "RMSE: 4.64237892094818\n",
            "MAE: 1.050514030456543\n",
            "MAPE: 0.0067021443684895845\n",
            "R-squared: 0.9993754267112287\n",
            "Adjusted R-squared: 0.999245307276068\n",
            "Evaluating Model 3 - Random State 21\n"
          ]
        },
        {
          "output_type": "stream",
          "name": "stderr",
          "text": [
            "/usr/local/lib/python3.10/dist-packages/sklearn/base.py:465: UserWarning: X does not have valid feature names, but StandardScaler was fitted with feature names\n",
            "  warnings.warn(\n",
            "/usr/local/lib/python3.10/dist-packages/sklearn/base.py:465: UserWarning: X does not have valid feature names, but StandardScaler was fitted with feature names\n",
            "  warnings.warn(\n"
          ]
        },
        {
          "output_type": "stream",
          "name": "stdout",
          "text": [
            "Prediction Time for model loaded from best_chromium_regressor_pipeline3.joblib: 0.07311248779296875 seconds\n",
            "CPU Usage: 23.700000000000003%\n",
            "Memory Usage: 0.00 MB\n",
            "Performance Metrics:\n",
            "MSE: 888.1082513881265\n",
            "RMSE: 29.80114513551663\n",
            "MAE: 5.985460662841797\n",
            "MAPE: 0.03223276977539063\n",
            "R-squared: 0.9742623944535229\n",
            "Adjusted R-squared: 0.9689003932980068\n",
            "Evaluating Model 1 - Random State 21\n",
            "Prediction Time for model loaded from best_chromium_regressor_pipeline_Model1.joblib: 0.017623186111450195 seconds\n",
            "CPU Usage: 1.7000000000000028%\n",
            "Memory Usage: 0.00 MB\n",
            "Performance Metrics:\n",
            "MSE: 33.607929268299266\n",
            "RMSE: 5.79723462249884\n",
            "MAE: 1.8589353561401367\n",
            "MAPE: 0.019510205586751303\n",
            "R-squared: 0.9990260335658526\n",
            "Adjusted R-squared: 0.998823123892072\n",
            "Evaluating Model 2 - Random State 21\n"
          ]
        },
        {
          "output_type": "stream",
          "name": "stderr",
          "text": [
            "/usr/local/lib/python3.10/dist-packages/sklearn/base.py:465: UserWarning: X does not have valid feature names, but StandardScaler was fitted with feature names\n",
            "  warnings.warn(\n"
          ]
        },
        {
          "output_type": "stream",
          "name": "stdout",
          "text": [
            "Prediction Time for model loaded from best_chromium_regressor_pipeline2 (2).joblib: 0.036969661712646484 seconds\n",
            "CPU Usage: 6.5%\n",
            "Memory Usage: 0.00 MB\n",
            "Performance Metrics:\n",
            "MSE: 21.551682045663984\n",
            "RMSE: 4.64237892094818\n",
            "MAE: 1.050514030456543\n",
            "MAPE: 0.0067021443684895845\n",
            "R-squared: 0.9993754267112287\n",
            "Adjusted R-squared: 0.999245307276068\n",
            "Evaluating Model 3 - Random State 21\n"
          ]
        },
        {
          "output_type": "stream",
          "name": "stderr",
          "text": [
            "/usr/local/lib/python3.10/dist-packages/sklearn/base.py:465: UserWarning: X does not have valid feature names, but StandardScaler was fitted with feature names\n",
            "  warnings.warn(\n",
            "/usr/local/lib/python3.10/dist-packages/sklearn/base.py:465: UserWarning: X does not have valid feature names, but StandardScaler was fitted with feature names\n",
            "  warnings.warn(\n"
          ]
        },
        {
          "output_type": "stream",
          "name": "stdout",
          "text": [
            "Prediction Time for model loaded from best_chromium_regressor_pipeline3.joblib: 0.05594515800476074 seconds\n",
            "CPU Usage: 1.6000000000000014%\n",
            "Memory Usage: 0.00 MB\n",
            "Performance Metrics:\n",
            "MSE: 888.1082513881265\n",
            "RMSE: 29.80114513551663\n",
            "MAE: 5.985460662841797\n",
            "MAPE: 0.03223276977539063\n",
            "R-squared: 0.9742623944535229\n",
            "Adjusted R-squared: 0.9689003932980068\n",
            "Evaluating Model 1 - Random State 21\n",
            "Prediction Time for model loaded from best_chromium_regressor_pipeline_Model1.joblib: 0.019350051879882812 seconds\n",
            "CPU Usage: -28.299999999999997%\n",
            "Memory Usage: 0.00 MB\n",
            "Performance Metrics:\n",
            "MSE: 33.607929268299266\n",
            "RMSE: 5.79723462249884\n",
            "MAE: 1.8589353561401367\n",
            "MAPE: 0.019510205586751303\n",
            "R-squared: 0.9990260335658526\n",
            "Adjusted R-squared: 0.998823123892072\n",
            "Evaluating Model 2 - Random State 21\n"
          ]
        },
        {
          "output_type": "stream",
          "name": "stderr",
          "text": [
            "/usr/local/lib/python3.10/dist-packages/sklearn/base.py:465: UserWarning: X does not have valid feature names, but StandardScaler was fitted with feature names\n",
            "  warnings.warn(\n"
          ]
        },
        {
          "output_type": "stream",
          "name": "stdout",
          "text": [
            "Prediction Time for model loaded from best_chromium_regressor_pipeline2 (2).joblib: 0.03889966011047363 seconds\n",
            "CPU Usage: 5.299999999999997%\n",
            "Memory Usage: 0.00 MB\n",
            "Performance Metrics:\n",
            "MSE: 21.551682045663984\n",
            "RMSE: 4.64237892094818\n",
            "MAE: 1.050514030456543\n",
            "MAPE: 0.0067021443684895845\n",
            "R-squared: 0.9993754267112287\n",
            "Adjusted R-squared: 0.999245307276068\n",
            "Evaluating Model 3 - Random State 21\n"
          ]
        },
        {
          "output_type": "stream",
          "name": "stderr",
          "text": [
            "/usr/local/lib/python3.10/dist-packages/sklearn/base.py:465: UserWarning: X does not have valid feature names, but StandardScaler was fitted with feature names\n",
            "  warnings.warn(\n",
            "/usr/local/lib/python3.10/dist-packages/sklearn/base.py:465: UserWarning: X does not have valid feature names, but StandardScaler was fitted with feature names\n",
            "  warnings.warn(\n"
          ]
        },
        {
          "output_type": "stream",
          "name": "stdout",
          "text": [
            "Prediction Time for model loaded from best_chromium_regressor_pipeline3.joblib: 0.05316925048828125 seconds\n",
            "CPU Usage: 2.1000000000000014%\n",
            "Memory Usage: 0.00 MB\n",
            "Performance Metrics:\n",
            "MSE: 888.1082513881265\n",
            "RMSE: 29.80114513551663\n",
            "MAE: 5.985460662841797\n",
            "MAPE: 0.03223276977539063\n",
            "R-squared: 0.9742623944535229\n",
            "Adjusted R-squared: 0.9689003932980068\n",
            "Evaluating Model 1 - Random State 21\n",
            "Prediction Time for model loaded from best_chromium_regressor_pipeline_Model1.joblib: 0.016226530075073242 seconds\n",
            "CPU Usage: -12.5%\n",
            "Memory Usage: 0.00 MB\n",
            "Performance Metrics:\n",
            "MSE: 33.607929268299266\n",
            "RMSE: 5.79723462249884\n",
            "MAE: 1.8589353561401367\n",
            "MAPE: 0.019510205586751303\n",
            "R-squared: 0.9990260335658526\n",
            "Adjusted R-squared: 0.998823123892072\n",
            "Evaluating Model 2 - Random State 21\n"
          ]
        },
        {
          "output_type": "stream",
          "name": "stderr",
          "text": [
            "/usr/local/lib/python3.10/dist-packages/sklearn/base.py:465: UserWarning: X does not have valid feature names, but StandardScaler was fitted with feature names\n",
            "  warnings.warn(\n"
          ]
        },
        {
          "output_type": "stream",
          "name": "stdout",
          "text": [
            "Prediction Time for model loaded from best_chromium_regressor_pipeline2 (2).joblib: 0.04439592361450195 seconds\n",
            "CPU Usage: 35.5%\n",
            "Memory Usage: 0.00 MB\n",
            "Performance Metrics:\n",
            "MSE: 21.551682045663984\n",
            "RMSE: 4.64237892094818\n",
            "MAE: 1.050514030456543\n",
            "MAPE: 0.0067021443684895845\n",
            "R-squared: 0.9993754267112287\n",
            "Adjusted R-squared: 0.999245307276068\n",
            "Evaluating Model 3 - Random State 21\n"
          ]
        },
        {
          "output_type": "stream",
          "name": "stderr",
          "text": [
            "/usr/local/lib/python3.10/dist-packages/sklearn/base.py:465: UserWarning: X does not have valid feature names, but StandardScaler was fitted with feature names\n",
            "  warnings.warn(\n",
            "/usr/local/lib/python3.10/dist-packages/sklearn/base.py:465: UserWarning: X does not have valid feature names, but StandardScaler was fitted with feature names\n",
            "  warnings.warn(\n"
          ]
        },
        {
          "output_type": "stream",
          "name": "stdout",
          "text": [
            "Prediction Time for model loaded from best_chromium_regressor_pipeline3.joblib: 0.048604488372802734 seconds\n",
            "CPU Usage: 11.700000000000003%\n",
            "Memory Usage: 0.00 MB\n",
            "Performance Metrics:\n",
            "MSE: 888.1082513881265\n",
            "RMSE: 29.80114513551663\n",
            "MAE: 5.985460662841797\n",
            "MAPE: 0.03223276977539063\n",
            "R-squared: 0.9742623944535229\n",
            "Adjusted R-squared: 0.9689003932980068\n",
            "Evaluating Model 1 - Random State 21\n",
            "Prediction Time for model loaded from best_chromium_regressor_pipeline_Model1.joblib: 0.015648603439331055 seconds\n",
            "CPU Usage: 13.899999999999999%\n",
            "Memory Usage: 0.00 MB\n",
            "Performance Metrics:\n",
            "MSE: 33.607929268299266\n",
            "RMSE: 5.79723462249884\n",
            "MAE: 1.8589353561401367\n",
            "MAPE: 0.019510205586751303\n",
            "R-squared: 0.9990260335658526\n",
            "Adjusted R-squared: 0.998823123892072\n",
            "Evaluating Model 2 - Random State 21\n"
          ]
        },
        {
          "output_type": "stream",
          "name": "stderr",
          "text": [
            "/usr/local/lib/python3.10/dist-packages/sklearn/base.py:465: UserWarning: X does not have valid feature names, but StandardScaler was fitted with feature names\n",
            "  warnings.warn(\n"
          ]
        },
        {
          "output_type": "stream",
          "name": "stdout",
          "text": [
            "Prediction Time for model loaded from best_chromium_regressor_pipeline2 (2).joblib: 0.035088300704956055 seconds\n",
            "CPU Usage: -7.399999999999999%\n",
            "Memory Usage: 0.00 MB\n",
            "Performance Metrics:\n",
            "MSE: 21.551682045663984\n",
            "RMSE: 4.64237892094818\n",
            "MAE: 1.050514030456543\n",
            "MAPE: 0.0067021443684895845\n",
            "R-squared: 0.9993754267112287\n",
            "Adjusted R-squared: 0.999245307276068\n",
            "Evaluating Model 3 - Random State 21\n"
          ]
        },
        {
          "output_type": "stream",
          "name": "stderr",
          "text": [
            "/usr/local/lib/python3.10/dist-packages/sklearn/base.py:465: UserWarning: X does not have valid feature names, but StandardScaler was fitted with feature names\n",
            "  warnings.warn(\n",
            "/usr/local/lib/python3.10/dist-packages/sklearn/base.py:465: UserWarning: X does not have valid feature names, but StandardScaler was fitted with feature names\n",
            "  warnings.warn(\n"
          ]
        },
        {
          "output_type": "stream",
          "name": "stdout",
          "text": [
            "Prediction Time for model loaded from best_chromium_regressor_pipeline3.joblib: 0.04761004447937012 seconds\n",
            "CPU Usage: 11.0%\n",
            "Memory Usage: 0.00 MB\n",
            "Performance Metrics:\n",
            "MSE: 888.1082513881265\n",
            "RMSE: 29.80114513551663\n",
            "MAE: 5.985460662841797\n",
            "MAPE: 0.03223276977539063\n",
            "R-squared: 0.9742623944535229\n",
            "Adjusted R-squared: 0.9689003932980068\n",
            "Evaluating Model 1 - Random State 21\n",
            "Prediction Time for model loaded from best_chromium_regressor_pipeline_Model1.joblib: 0.016133785247802734 seconds\n",
            "CPU Usage: 16.200000000000003%\n",
            "Memory Usage: 0.00 MB\n",
            "Performance Metrics:\n",
            "MSE: 33.607929268299266\n",
            "RMSE: 5.79723462249884\n",
            "MAE: 1.8589353561401367\n",
            "MAPE: 0.019510205586751303\n",
            "R-squared: 0.9990260335658526\n",
            "Adjusted R-squared: 0.998823123892072\n",
            "Evaluating Model 2 - Random State 21\n"
          ]
        },
        {
          "output_type": "stream",
          "name": "stderr",
          "text": [
            "/usr/local/lib/python3.10/dist-packages/sklearn/base.py:465: UserWarning: X does not have valid feature names, but StandardScaler was fitted with feature names\n",
            "  warnings.warn(\n"
          ]
        },
        {
          "output_type": "stream",
          "name": "stdout",
          "text": [
            "Prediction Time for model loaded from best_chromium_regressor_pipeline2 (2).joblib: 0.03047347068786621 seconds\n",
            "CPU Usage: 5.400000000000006%\n",
            "Memory Usage: 0.00 MB\n",
            "Performance Metrics:\n",
            "MSE: 21.551682045663984\n",
            "RMSE: 4.64237892094818\n",
            "MAE: 1.050514030456543\n",
            "MAPE: 0.0067021443684895845\n",
            "R-squared: 0.9993754267112287\n",
            "Adjusted R-squared: 0.999245307276068\n",
            "Evaluating Model 3 - Random State 21\n"
          ]
        },
        {
          "output_type": "stream",
          "name": "stderr",
          "text": [
            "/usr/local/lib/python3.10/dist-packages/sklearn/base.py:465: UserWarning: X does not have valid feature names, but StandardScaler was fitted with feature names\n",
            "  warnings.warn(\n"
          ]
        },
        {
          "output_type": "stream",
          "name": "stdout",
          "text": [
            "Prediction Time for model loaded from best_chromium_regressor_pipeline3.joblib: 0.09731149673461914 seconds\n",
            "CPU Usage: 22.200000000000003%\n",
            "Memory Usage: 0.00 MB\n",
            "Performance Metrics:\n",
            "MSE: 888.1082513881265\n",
            "RMSE: 29.80114513551663\n",
            "MAE: 5.985460662841797\n",
            "MAPE: 0.03223276977539063\n",
            "R-squared: 0.9742623944535229\n",
            "Adjusted R-squared: 0.9689003932980068\n",
            "Evaluating Model 1 - Random State 21\n",
            "Prediction Time for model loaded from best_chromium_regressor_pipeline_Model1.joblib: 0.025866031646728516 seconds\n",
            "CPU Usage: -14.299999999999997%\n",
            "Memory Usage: 0.00 MB\n",
            "Performance Metrics:\n",
            "MSE: 33.607929268299266\n",
            "RMSE: 5.79723462249884\n",
            "MAE: 1.8589353561401367\n",
            "MAPE: 0.019510205586751303\n",
            "R-squared: 0.9990260335658526\n",
            "Adjusted R-squared: 0.998823123892072\n",
            "Evaluating Model 2 - Random State 21\n"
          ]
        },
        {
          "output_type": "stream",
          "name": "stderr",
          "text": [
            "/usr/local/lib/python3.10/dist-packages/sklearn/base.py:465: UserWarning: X does not have valid feature names, but StandardScaler was fitted with feature names\n",
            "  warnings.warn(\n",
            "/usr/local/lib/python3.10/dist-packages/sklearn/base.py:465: UserWarning: X does not have valid feature names, but StandardScaler was fitted with feature names\n",
            "  warnings.warn(\n"
          ]
        },
        {
          "output_type": "stream",
          "name": "stdout",
          "text": [
            "Prediction Time for model loaded from best_chromium_regressor_pipeline2 (2).joblib: 0.10513114929199219 seconds\n",
            "CPU Usage: 0.0%\n",
            "Memory Usage: 0.00 MB\n",
            "Performance Metrics:\n",
            "MSE: 21.551682045663984\n",
            "RMSE: 4.64237892094818\n",
            "MAE: 1.050514030456543\n",
            "MAPE: 0.0067021443684895845\n",
            "R-squared: 0.9993754267112287\n",
            "Adjusted R-squared: 0.999245307276068\n",
            "Evaluating Model 3 - Random State 21\n"
          ]
        },
        {
          "output_type": "stream",
          "name": "stderr",
          "text": [
            "/usr/local/lib/python3.10/dist-packages/sklearn/base.py:465: UserWarning: X does not have valid feature names, but StandardScaler was fitted with feature names\n",
            "  warnings.warn(\n"
          ]
        },
        {
          "output_type": "stream",
          "name": "stdout",
          "text": [
            "Prediction Time for model loaded from best_chromium_regressor_pipeline3.joblib: 0.09586429595947266 seconds\n",
            "CPU Usage: 0.0%\n",
            "Memory Usage: 0.00 MB\n",
            "Performance Metrics:\n",
            "MSE: 888.1082513881265\n",
            "RMSE: 29.80114513551663\n",
            "MAE: 5.985460662841797\n",
            "MAPE: 0.03223276977539063\n",
            "R-squared: 0.9742623944535229\n",
            "Adjusted R-squared: 0.9689003932980068\n",
            "Evaluating Model 1 - Random State 21\n",
            "Prediction Time for model loaded from best_chromium_regressor_pipeline_Model1.joblib: 0.05340886116027832 seconds\n",
            "CPU Usage: 0.0%\n",
            "Memory Usage: 0.00 MB\n",
            "Performance Metrics:\n",
            "MSE: 33.607929268299266\n",
            "RMSE: 5.79723462249884\n",
            "MAE: 1.8589353561401367\n",
            "MAPE: 0.019510205586751303\n",
            "R-squared: 0.9990260335658526\n",
            "Adjusted R-squared: 0.998823123892072\n"
          ]
        },
        {
          "output_type": "stream",
          "name": "stderr",
          "text": [
            "/usr/local/lib/python3.10/dist-packages/sklearn/base.py:465: UserWarning: X does not have valid feature names, but StandardScaler was fitted with feature names\n",
            "  warnings.warn(\n"
          ]
        },
        {
          "output_type": "stream",
          "name": "stdout",
          "text": [
            "Evaluating Model 2 - Random State 21\n"
          ]
        },
        {
          "output_type": "stream",
          "name": "stderr",
          "text": [
            "/usr/local/lib/python3.10/dist-packages/sklearn/base.py:465: UserWarning: X does not have valid feature names, but StandardScaler was fitted with feature names\n",
            "  warnings.warn(\n"
          ]
        },
        {
          "output_type": "stream",
          "name": "stdout",
          "text": [
            "Prediction Time for model loaded from best_chromium_regressor_pipeline2 (2).joblib: 0.10956740379333496 seconds\n",
            "CPU Usage: 0.0%\n",
            "Memory Usage: 0.00 MB\n",
            "Performance Metrics:\n",
            "MSE: 21.551682045663984\n",
            "RMSE: 4.64237892094818\n",
            "MAE: 1.050514030456543\n",
            "MAPE: 0.0067021443684895845\n",
            "R-squared: 0.9993754267112287\n",
            "Adjusted R-squared: 0.999245307276068\n",
            "Evaluating Model 3 - Random State 21\n"
          ]
        },
        {
          "output_type": "stream",
          "name": "stderr",
          "text": [
            "/usr/local/lib/python3.10/dist-packages/sklearn/base.py:465: UserWarning: X does not have valid feature names, but StandardScaler was fitted with feature names\n",
            "  warnings.warn(\n"
          ]
        },
        {
          "output_type": "stream",
          "name": "stdout",
          "text": [
            "Prediction Time for model loaded from best_chromium_regressor_pipeline3.joblib: 0.1168828010559082 seconds\n",
            "CPU Usage: 0.0%\n",
            "Memory Usage: 0.00 MB\n",
            "Performance Metrics:\n",
            "MSE: 888.1082513881265\n",
            "RMSE: 29.80114513551663\n",
            "MAE: 5.985460662841797\n",
            "MAPE: 0.03223276977539063\n",
            "R-squared: 0.9742623944535229\n",
            "Adjusted R-squared: 0.9689003932980068\n",
            "Evaluating Model 1 - Random State 42\n",
            "Prediction Time for model loaded from best_chromium_regressor_pipeline_Model1.joblib: 0.015822410583496094 seconds\n",
            "CPU Usage: -27.599999999999994%\n",
            "Memory Usage: 0.00 MB\n",
            "Performance Metrics:\n",
            "MSE: 22.34740261345299\n",
            "RMSE: 4.7273039476484895\n",
            "MAE: 1.6691350936889648\n",
            "MAPE: 0.034834820048014324\n",
            "R-squared: 0.9993855914968044\n",
            "Adjusted R-squared: 0.9992575897253053\n",
            "Evaluating Model 2 - Random State 42\n"
          ]
        },
        {
          "output_type": "stream",
          "name": "stderr",
          "text": [
            "/usr/local/lib/python3.10/dist-packages/sklearn/base.py:465: UserWarning: X does not have valid feature names, but StandardScaler was fitted with feature names\n",
            "  warnings.warn(\n",
            "/usr/local/lib/python3.10/dist-packages/sklearn/base.py:465: UserWarning: X does not have valid feature names, but StandardScaler was fitted with feature names\n",
            "  warnings.warn(\n"
          ]
        },
        {
          "output_type": "stream",
          "name": "stdout",
          "text": [
            "Prediction Time for model loaded from best_chromium_regressor_pipeline2 (2).joblib: 0.030119657516479492 seconds\n",
            "CPU Usage: 4.600000000000001%\n",
            "Memory Usage: 0.00 MB\n",
            "Performance Metrics:\n",
            "MSE: 44.62987658996972\n",
            "RMSE: 6.68055960155807\n",
            "MAE: 2.0160205205281576\n",
            "MAPE: 0.0564241200764974\n",
            "R-squared: 0.9987729681096388\n",
            "Adjusted R-squared: 0.9985173364658135\n",
            "Evaluating Model 3 - Random State 42\n"
          ]
        },
        {
          "output_type": "stream",
          "name": "stderr",
          "text": [
            "/usr/local/lib/python3.10/dist-packages/sklearn/base.py:465: UserWarning: X does not have valid feature names, but StandardScaler was fitted with feature names\n",
            "  warnings.warn(\n",
            "/usr/local/lib/python3.10/dist-packages/sklearn/base.py:465: UserWarning: X does not have valid feature names, but StandardScaler was fitted with feature names\n",
            "  warnings.warn(\n"
          ]
        },
        {
          "output_type": "stream",
          "name": "stdout",
          "text": [
            "Prediction Time for model loaded from best_chromium_regressor_pipeline3.joblib: 0.056577444076538086 seconds\n",
            "CPU Usage: 22.799999999999997%\n",
            "Memory Usage: 0.00 MB\n",
            "Performance Metrics:\n",
            "MSE: 42.574953343094606\n",
            "RMSE: 6.524948531834914\n",
            "MAE: 2.4129941940307615\n",
            "MAPE: 0.052505732981363934\n",
            "R-squared: 0.9988294651593467\n",
            "Adjusted R-squared: 0.9985856037342106\n",
            "Evaluating Model 1 - Random State 42\n",
            "Prediction Time for model loaded from best_chromium_regressor_pipeline_Model1.joblib: 0.018543481826782227 seconds\n",
            "CPU Usage: 0.0%\n",
            "Memory Usage: 0.00 MB\n",
            "Performance Metrics:\n",
            "MSE: 22.34740261345299\n",
            "RMSE: 4.7273039476484895\n",
            "MAE: 1.6691350936889648\n",
            "MAPE: 0.034834820048014324\n",
            "R-squared: 0.9993855914968044\n",
            "Adjusted R-squared: 0.9992575897253053\n",
            "Evaluating Model 2 - Random State 42\n"
          ]
        },
        {
          "output_type": "stream",
          "name": "stderr",
          "text": [
            "/usr/local/lib/python3.10/dist-packages/sklearn/base.py:465: UserWarning: X does not have valid feature names, but StandardScaler was fitted with feature names\n",
            "  warnings.warn(\n"
          ]
        },
        {
          "output_type": "stream",
          "name": "stdout",
          "text": [
            "Prediction Time for model loaded from best_chromium_regressor_pipeline2 (2).joblib: 0.03250432014465332 seconds\n",
            "CPU Usage: -1.2999999999999972%\n",
            "Memory Usage: 0.00 MB\n",
            "Performance Metrics:\n",
            "MSE: 44.62987658996972\n",
            "RMSE: 6.68055960155807\n",
            "MAE: 2.0160205205281576\n",
            "MAPE: 0.0564241200764974\n",
            "R-squared: 0.9987729681096388\n",
            "Adjusted R-squared: 0.9985173364658135\n",
            "Evaluating Model 3 - Random State 42\n"
          ]
        },
        {
          "output_type": "stream",
          "name": "stderr",
          "text": [
            "/usr/local/lib/python3.10/dist-packages/sklearn/base.py:465: UserWarning: X does not have valid feature names, but StandardScaler was fitted with feature names\n",
            "  warnings.warn(\n",
            "/usr/local/lib/python3.10/dist-packages/sklearn/base.py:465: UserWarning: X does not have valid feature names, but StandardScaler was fitted with feature names\n",
            "  warnings.warn(\n"
          ]
        },
        {
          "output_type": "stream",
          "name": "stdout",
          "text": [
            "Prediction Time for model loaded from best_chromium_regressor_pipeline3.joblib: 0.05212569236755371 seconds\n",
            "CPU Usage: 11.300000000000004%\n",
            "Memory Usage: 0.00 MB\n",
            "Performance Metrics:\n",
            "MSE: 42.574953343094606\n",
            "RMSE: 6.524948531834914\n",
            "MAE: 2.4129941940307615\n",
            "MAPE: 0.052505732981363934\n",
            "R-squared: 0.9988294651593467\n",
            "Adjusted R-squared: 0.9985856037342106\n",
            "Evaluating Model 1 - Random State 42\n",
            "Prediction Time for model loaded from best_chromium_regressor_pipeline_Model1.joblib: 0.015581846237182617 seconds\n",
            "CPU Usage: 4.200000000000003%\n",
            "Memory Usage: 0.00 MB\n",
            "Performance Metrics:\n",
            "MSE: 22.34740261345299\n",
            "RMSE: 4.7273039476484895\n",
            "MAE: 1.6691350936889648\n",
            "MAPE: 0.034834820048014324\n",
            "R-squared: 0.9993855914968044\n",
            "Adjusted R-squared: 0.9992575897253053\n",
            "Evaluating Model 2 - Random State 42\n"
          ]
        },
        {
          "output_type": "stream",
          "name": "stderr",
          "text": [
            "/usr/local/lib/python3.10/dist-packages/sklearn/base.py:465: UserWarning: X does not have valid feature names, but StandardScaler was fitted with feature names\n",
            "  warnings.warn(\n"
          ]
        },
        {
          "output_type": "stream",
          "name": "stdout",
          "text": [
            "Prediction Time for model loaded from best_chromium_regressor_pipeline2 (2).joblib: 0.037268638610839844 seconds\n",
            "CPU Usage: 21.200000000000003%\n",
            "Memory Usage: 0.00 MB\n",
            "Performance Metrics:\n",
            "MSE: 44.62987658996972\n",
            "RMSE: 6.68055960155807\n",
            "MAE: 2.0160205205281576\n",
            "MAPE: 0.0564241200764974\n",
            "R-squared: 0.9987729681096388\n",
            "Adjusted R-squared: 0.9985173364658135\n",
            "Evaluating Model 3 - Random State 42\n"
          ]
        },
        {
          "output_type": "stream",
          "name": "stderr",
          "text": [
            "/usr/local/lib/python3.10/dist-packages/sklearn/base.py:465: UserWarning: X does not have valid feature names, but StandardScaler was fitted with feature names\n",
            "  warnings.warn(\n",
            "/usr/local/lib/python3.10/dist-packages/sklearn/base.py:465: UserWarning: X does not have valid feature names, but StandardScaler was fitted with feature names\n",
            "  warnings.warn(\n"
          ]
        },
        {
          "output_type": "stream",
          "name": "stdout",
          "text": [
            "Prediction Time for model loaded from best_chromium_regressor_pipeline3.joblib: 0.04929971694946289 seconds\n",
            "CPU Usage: 8.0%\n",
            "Memory Usage: 0.00 MB\n",
            "Performance Metrics:\n",
            "MSE: 42.574953343094606\n",
            "RMSE: 6.524948531834914\n",
            "MAE: 2.4129941940307615\n",
            "MAPE: 0.052505732981363934\n",
            "R-squared: 0.9988294651593467\n",
            "Adjusted R-squared: 0.9985856037342106\n",
            "Evaluating Model 1 - Random State 42\n",
            "Prediction Time for model loaded from best_chromium_regressor_pipeline_Model1.joblib: 0.01628732681274414 seconds\n",
            "CPU Usage: 5.600000000000001%\n",
            "Memory Usage: 0.00 MB\n",
            "Performance Metrics:\n",
            "MSE: 22.34740261345299\n",
            "RMSE: 4.7273039476484895\n",
            "MAE: 1.6691350936889648\n",
            "MAPE: 0.034834820048014324\n",
            "R-squared: 0.9993855914968044\n",
            "Adjusted R-squared: 0.9992575897253053\n",
            "Evaluating Model 2 - Random State 42\n"
          ]
        },
        {
          "output_type": "stream",
          "name": "stderr",
          "text": [
            "/usr/local/lib/python3.10/dist-packages/sklearn/base.py:465: UserWarning: X does not have valid feature names, but StandardScaler was fitted with feature names\n",
            "  warnings.warn(\n"
          ]
        },
        {
          "output_type": "stream",
          "name": "stdout",
          "text": [
            "Prediction Time for model loaded from best_chromium_regressor_pipeline2 (2).joblib: 0.030870914459228516 seconds\n",
            "CPU Usage: 1.2000000000000028%\n",
            "Memory Usage: 0.00 MB\n",
            "Performance Metrics:\n",
            "MSE: 44.62987658996972\n",
            "RMSE: 6.68055960155807\n",
            "MAE: 2.0160205205281576\n",
            "MAPE: 0.0564241200764974\n",
            "R-squared: 0.9987729681096388\n",
            "Adjusted R-squared: 0.9985173364658135\n",
            "Evaluating Model 3 - Random State 42\n"
          ]
        },
        {
          "output_type": "stream",
          "name": "stderr",
          "text": [
            "/usr/local/lib/python3.10/dist-packages/sklearn/base.py:465: UserWarning: X does not have valid feature names, but StandardScaler was fitted with feature names\n",
            "  warnings.warn(\n",
            "/usr/local/lib/python3.10/dist-packages/sklearn/base.py:465: UserWarning: X does not have valid feature names, but StandardScaler was fitted with feature names\n",
            "  warnings.warn(\n"
          ]
        },
        {
          "output_type": "stream",
          "name": "stdout",
          "text": [
            "Prediction Time for model loaded from best_chromium_regressor_pipeline3.joblib: 0.055963754653930664 seconds\n",
            "CPU Usage: -3.3999999999999986%\n",
            "Memory Usage: 0.00 MB\n",
            "Performance Metrics:\n",
            "MSE: 42.574953343094606\n",
            "RMSE: 6.524948531834914\n",
            "MAE: 2.4129941940307615\n",
            "MAPE: 0.052505732981363934\n",
            "R-squared: 0.9988294651593467\n",
            "Adjusted R-squared: 0.9985856037342106\n",
            "Evaluating Model 1 - Random State 42\n",
            "Prediction Time for model loaded from best_chromium_regressor_pipeline_Model1.joblib: 0.018181324005126953 seconds\n",
            "CPU Usage: 3.5%\n",
            "Memory Usage: 0.00 MB\n",
            "Performance Metrics:\n",
            "MSE: 22.34740261345299\n",
            "RMSE: 4.7273039476484895\n",
            "MAE: 1.6691350936889648\n",
            "MAPE: 0.034834820048014324\n",
            "R-squared: 0.9993855914968044\n",
            "Adjusted R-squared: 0.9992575897253053\n",
            "Evaluating Model 2 - Random State 42\n"
          ]
        },
        {
          "output_type": "stream",
          "name": "stderr",
          "text": [
            "/usr/local/lib/python3.10/dist-packages/sklearn/base.py:465: UserWarning: X does not have valid feature names, but StandardScaler was fitted with feature names\n",
            "  warnings.warn(\n"
          ]
        },
        {
          "output_type": "stream",
          "name": "stdout",
          "text": [
            "Prediction Time for model loaded from best_chromium_regressor_pipeline2 (2).joblib: 0.03368639945983887 seconds\n",
            "CPU Usage: -8.499999999999993%\n",
            "Memory Usage: 0.00 MB\n",
            "Performance Metrics:\n",
            "MSE: 44.62987658996972\n",
            "RMSE: 6.68055960155807\n",
            "MAE: 2.0160205205281576\n",
            "MAPE: 0.0564241200764974\n",
            "R-squared: 0.9987729681096388\n",
            "Adjusted R-squared: 0.9985173364658135\n",
            "Evaluating Model 3 - Random State 42\n"
          ]
        },
        {
          "output_type": "stream",
          "name": "stderr",
          "text": [
            "/usr/local/lib/python3.10/dist-packages/sklearn/base.py:465: UserWarning: X does not have valid feature names, but StandardScaler was fitted with feature names\n",
            "  warnings.warn(\n",
            "/usr/local/lib/python3.10/dist-packages/sklearn/base.py:465: UserWarning: X does not have valid feature names, but StandardScaler was fitted with feature names\n",
            "  warnings.warn(\n"
          ]
        },
        {
          "output_type": "stream",
          "name": "stdout",
          "text": [
            "Prediction Time for model loaded from best_chromium_regressor_pipeline3.joblib: 0.0518651008605957 seconds\n",
            "CPU Usage: 6.299999999999997%\n",
            "Memory Usage: 0.00 MB\n",
            "Performance Metrics:\n",
            "MSE: 42.574953343094606\n",
            "RMSE: 6.524948531834914\n",
            "MAE: 2.4129941940307615\n",
            "MAPE: 0.052505732981363934\n",
            "R-squared: 0.9988294651593467\n",
            "Adjusted R-squared: 0.9985856037342106\n",
            "Evaluating Model 1 - Random State 42\n",
            "Prediction Time for model loaded from best_chromium_regressor_pipeline_Model1.joblib: 0.016620159149169922 seconds\n",
            "CPU Usage: -8.299999999999997%\n",
            "Memory Usage: 0.00 MB\n",
            "Performance Metrics:\n",
            "MSE: 22.34740261345299\n",
            "RMSE: 4.7273039476484895\n",
            "MAE: 1.6691350936889648\n",
            "MAPE: 0.034834820048014324\n",
            "R-squared: 0.9993855914968044\n",
            "Adjusted R-squared: 0.9992575897253053\n",
            "Evaluating Model 2 - Random State 42\n"
          ]
        },
        {
          "output_type": "stream",
          "name": "stderr",
          "text": [
            "/usr/local/lib/python3.10/dist-packages/sklearn/base.py:465: UserWarning: X does not have valid feature names, but StandardScaler was fitted with feature names\n",
            "  warnings.warn(\n"
          ]
        },
        {
          "output_type": "stream",
          "name": "stdout",
          "text": [
            "Prediction Time for model loaded from best_chromium_regressor_pipeline2 (2).joblib: 0.03037238121032715 seconds\n",
            "CPU Usage: -4.5%\n",
            "Memory Usage: 0.00 MB\n",
            "Performance Metrics:\n",
            "MSE: 44.62987658996972\n",
            "RMSE: 6.68055960155807\n",
            "MAE: 2.0160205205281576\n",
            "MAPE: 0.0564241200764974\n",
            "R-squared: 0.9987729681096388\n",
            "Adjusted R-squared: 0.9985173364658135\n",
            "Evaluating Model 3 - Random State 42\n"
          ]
        },
        {
          "output_type": "stream",
          "name": "stderr",
          "text": [
            "/usr/local/lib/python3.10/dist-packages/sklearn/base.py:465: UserWarning: X does not have valid feature names, but StandardScaler was fitted with feature names\n",
            "  warnings.warn(\n",
            "/usr/local/lib/python3.10/dist-packages/sklearn/base.py:465: UserWarning: X does not have valid feature names, but StandardScaler was fitted with feature names\n",
            "  warnings.warn(\n"
          ]
        },
        {
          "output_type": "stream",
          "name": "stdout",
          "text": [
            "Prediction Time for model loaded from best_chromium_regressor_pipeline3.joblib: 0.05590391159057617 seconds\n",
            "CPU Usage: 12.0%\n",
            "Memory Usage: 0.00 MB\n",
            "Performance Metrics:\n",
            "MSE: 42.574953343094606\n",
            "RMSE: 6.524948531834914\n",
            "MAE: 2.4129941940307615\n",
            "MAPE: 0.052505732981363934\n",
            "R-squared: 0.9988294651593467\n",
            "Adjusted R-squared: 0.9985856037342106\n",
            "Evaluating Model 1 - Random State 42\n",
            "Prediction Time for model loaded from best_chromium_regressor_pipeline_Model1.joblib: 0.017925500869750977 seconds\n",
            "CPU Usage: 5.600000000000001%\n",
            "Memory Usage: 0.00 MB\n",
            "Performance Metrics:\n",
            "MSE: 22.34740261345299\n",
            "RMSE: 4.7273039476484895\n",
            "MAE: 1.6691350936889648\n",
            "MAPE: 0.034834820048014324\n",
            "R-squared: 0.9993855914968044\n",
            "Adjusted R-squared: 0.9992575897253053\n",
            "Evaluating Model 2 - Random State 42\n"
          ]
        },
        {
          "output_type": "stream",
          "name": "stderr",
          "text": [
            "/usr/local/lib/python3.10/dist-packages/sklearn/base.py:465: UserWarning: X does not have valid feature names, but StandardScaler was fitted with feature names\n",
            "  warnings.warn(\n"
          ]
        },
        {
          "output_type": "stream",
          "name": "stdout",
          "text": [
            "Prediction Time for model loaded from best_chromium_regressor_pipeline2 (2).joblib: 0.032703399658203125 seconds\n",
            "CPU Usage: -5.200000000000003%\n",
            "Memory Usage: 0.00 MB\n",
            "Performance Metrics:\n",
            "MSE: 44.62987658996972\n",
            "RMSE: 6.68055960155807\n",
            "MAE: 2.0160205205281576\n",
            "MAPE: 0.0564241200764974\n",
            "R-squared: 0.9987729681096388\n",
            "Adjusted R-squared: 0.9985173364658135\n",
            "Evaluating Model 3 - Random State 42\n"
          ]
        },
        {
          "output_type": "stream",
          "name": "stderr",
          "text": [
            "/usr/local/lib/python3.10/dist-packages/sklearn/base.py:465: UserWarning: X does not have valid feature names, but StandardScaler was fitted with feature names\n",
            "  warnings.warn(\n",
            "/usr/local/lib/python3.10/dist-packages/sklearn/base.py:465: UserWarning: X does not have valid feature names, but StandardScaler was fitted with feature names\n",
            "  warnings.warn(\n"
          ]
        },
        {
          "output_type": "stream",
          "name": "stdout",
          "text": [
            "Prediction Time for model loaded from best_chromium_regressor_pipeline3.joblib: 0.050019264221191406 seconds\n",
            "CPU Usage: 4.700000000000003%\n",
            "Memory Usage: 0.00 MB\n",
            "Performance Metrics:\n",
            "MSE: 42.574953343094606\n",
            "RMSE: 6.524948531834914\n",
            "MAE: 2.4129941940307615\n",
            "MAPE: 0.052505732981363934\n",
            "R-squared: 0.9988294651593467\n",
            "Adjusted R-squared: 0.9985856037342106\n",
            "Evaluating Model 1 - Random State 42\n",
            "Prediction Time for model loaded from best_chromium_regressor_pipeline_Model1.joblib: 0.022890329360961914 seconds\n",
            "CPU Usage: 17.5%\n",
            "Memory Usage: 0.00 MB\n",
            "Performance Metrics:\n",
            "MSE: 22.34740261345299\n",
            "RMSE: 4.7273039476484895\n",
            "MAE: 1.6691350936889648\n",
            "MAPE: 0.034834820048014324\n",
            "R-squared: 0.9993855914968044\n",
            "Adjusted R-squared: 0.9992575897253053\n",
            "Evaluating Model 2 - Random State 42\n"
          ]
        },
        {
          "output_type": "stream",
          "name": "stderr",
          "text": [
            "/usr/local/lib/python3.10/dist-packages/sklearn/base.py:465: UserWarning: X does not have valid feature names, but StandardScaler was fitted with feature names\n",
            "  warnings.warn(\n"
          ]
        },
        {
          "output_type": "stream",
          "name": "stdout",
          "text": [
            "Prediction Time for model loaded from best_chromium_regressor_pipeline2 (2).joblib: 0.03212308883666992 seconds\n",
            "CPU Usage: 5.900000000000006%\n",
            "Memory Usage: 0.00 MB\n",
            "Performance Metrics:\n",
            "MSE: 44.62987658996972\n",
            "RMSE: 6.68055960155807\n",
            "MAE: 2.0160205205281576\n",
            "MAPE: 0.0564241200764974\n",
            "R-squared: 0.9987729681096388\n",
            "Adjusted R-squared: 0.9985173364658135\n",
            "Evaluating Model 3 - Random State 42\n"
          ]
        },
        {
          "output_type": "stream",
          "name": "stderr",
          "text": [
            "/usr/local/lib/python3.10/dist-packages/sklearn/base.py:465: UserWarning: X does not have valid feature names, but StandardScaler was fitted with feature names\n",
            "  warnings.warn(\n",
            "/usr/local/lib/python3.10/dist-packages/sklearn/base.py:465: UserWarning: X does not have valid feature names, but StandardScaler was fitted with feature names\n",
            "  warnings.warn(\n"
          ]
        },
        {
          "output_type": "stream",
          "name": "stdout",
          "text": [
            "Prediction Time for model loaded from best_chromium_regressor_pipeline3.joblib: 0.04875016212463379 seconds\n",
            "CPU Usage: -1.1999999999999957%\n",
            "Memory Usage: 0.00 MB\n",
            "Performance Metrics:\n",
            "MSE: 42.574953343094606\n",
            "RMSE: 6.524948531834914\n",
            "MAE: 2.4129941940307615\n",
            "MAPE: 0.052505732981363934\n",
            "R-squared: 0.9988294651593467\n",
            "Adjusted R-squared: 0.9985856037342106\n",
            "Evaluating Model 1 - Random State 42\n",
            "Prediction Time for model loaded from best_chromium_regressor_pipeline_Model1.joblib: 0.01634502410888672 seconds\n",
            "CPU Usage: 15.0%\n",
            "Memory Usage: 0.00 MB\n",
            "Performance Metrics:\n",
            "MSE: 22.34740261345299\n",
            "RMSE: 4.7273039476484895\n",
            "MAE: 1.6691350936889648\n",
            "MAPE: 0.034834820048014324\n",
            "R-squared: 0.9993855914968044\n",
            "Adjusted R-squared: 0.9992575897253053\n",
            "Evaluating Model 2 - Random State 42\n"
          ]
        },
        {
          "output_type": "stream",
          "name": "stderr",
          "text": [
            "/usr/local/lib/python3.10/dist-packages/sklearn/base.py:465: UserWarning: X does not have valid feature names, but StandardScaler was fitted with feature names\n",
            "  warnings.warn(\n"
          ]
        },
        {
          "output_type": "stream",
          "name": "stdout",
          "text": [
            "Prediction Time for model loaded from best_chromium_regressor_pipeline2 (2).joblib: 0.03564262390136719 seconds\n",
            "CPU Usage: 20.0%\n",
            "Memory Usage: 0.00 MB\n",
            "Performance Metrics:\n",
            "MSE: 44.62987658996972\n",
            "RMSE: 6.68055960155807\n",
            "MAE: 2.0160205205281576\n",
            "MAPE: 0.0564241200764974\n",
            "R-squared: 0.9987729681096388\n",
            "Adjusted R-squared: 0.9985173364658135\n",
            "Evaluating Model 3 - Random State 42\n"
          ]
        },
        {
          "output_type": "stream",
          "name": "stderr",
          "text": [
            "/usr/local/lib/python3.10/dist-packages/sklearn/base.py:465: UserWarning: X does not have valid feature names, but StandardScaler was fitted with feature names\n",
            "  warnings.warn(\n",
            "/usr/local/lib/python3.10/dist-packages/sklearn/base.py:465: UserWarning: X does not have valid feature names, but StandardScaler was fitted with feature names\n",
            "  warnings.warn(\n"
          ]
        },
        {
          "output_type": "stream",
          "name": "stdout",
          "text": [
            "Prediction Time for model loaded from best_chromium_regressor_pipeline3.joblib: 0.05045437812805176 seconds\n",
            "CPU Usage: 5.099999999999994%\n",
            "Memory Usage: 0.00 MB\n",
            "Performance Metrics:\n",
            "MSE: 42.574953343094606\n",
            "RMSE: 6.524948531834914\n",
            "MAE: 2.4129941940307615\n",
            "MAPE: 0.052505732981363934\n",
            "R-squared: 0.9988294651593467\n",
            "Adjusted R-squared: 0.9985856037342106\n",
            "Evaluating Model 1 - Random State 42\n",
            "Prediction Time for model loaded from best_chromium_regressor_pipeline_Model1.joblib: 0.017496109008789062 seconds\n",
            "CPU Usage: -14.700000000000003%\n",
            "Memory Usage: 0.00 MB\n",
            "Performance Metrics:\n",
            "MSE: 22.34740261345299\n",
            "RMSE: 4.7273039476484895\n",
            "MAE: 1.6691350936889648\n",
            "MAPE: 0.034834820048014324\n",
            "R-squared: 0.9993855914968044\n",
            "Adjusted R-squared: 0.9992575897253053\n",
            "Evaluating Model 2 - Random State 42\n"
          ]
        },
        {
          "output_type": "stream",
          "name": "stderr",
          "text": [
            "/usr/local/lib/python3.10/dist-packages/sklearn/base.py:465: UserWarning: X does not have valid feature names, but StandardScaler was fitted with feature names\n",
            "  warnings.warn(\n"
          ]
        },
        {
          "output_type": "stream",
          "name": "stdout",
          "text": [
            "Prediction Time for model loaded from best_chromium_regressor_pipeline2 (2).joblib: 0.03167581558227539 seconds\n",
            "CPU Usage: -1.0%\n",
            "Memory Usage: 0.00 MB\n",
            "Performance Metrics:\n",
            "MSE: 44.62987658996972\n",
            "RMSE: 6.68055960155807\n",
            "MAE: 2.0160205205281576\n",
            "MAPE: 0.0564241200764974\n",
            "R-squared: 0.9987729681096388\n",
            "Adjusted R-squared: 0.9985173364658135\n",
            "Evaluating Model 3 - Random State 42\n"
          ]
        },
        {
          "output_type": "stream",
          "name": "stderr",
          "text": [
            "/usr/local/lib/python3.10/dist-packages/sklearn/base.py:465: UserWarning: X does not have valid feature names, but StandardScaler was fitted with feature names\n",
            "  warnings.warn(\n",
            "/usr/local/lib/python3.10/dist-packages/sklearn/base.py:465: UserWarning: X does not have valid feature names, but StandardScaler was fitted with feature names\n",
            "  warnings.warn(\n"
          ]
        },
        {
          "output_type": "stream",
          "name": "stdout",
          "text": [
            "Prediction Time for model loaded from best_chromium_regressor_pipeline3.joblib: 0.05262041091918945 seconds\n",
            "CPU Usage: 4.400000000000006%\n",
            "Memory Usage: 0.00 MB\n",
            "Performance Metrics:\n",
            "MSE: 42.574953343094606\n",
            "RMSE: 6.524948531834914\n",
            "MAE: 2.4129941940307615\n",
            "MAPE: 0.052505732981363934\n",
            "R-squared: 0.9988294651593467\n",
            "Adjusted R-squared: 0.9985856037342106\n",
            "Evaluating Model 1 - Random State 100\n",
            "Prediction Time for model loaded from best_chromium_regressor_pipeline_Model1.joblib: 0.024802684783935547 seconds\n",
            "CPU Usage: -1.2999999999999972%\n",
            "Memory Usage: 0.00 MB\n",
            "Performance Metrics:\n",
            "MSE: 15.416265185907347\n",
            "RMSE: 3.9263552037363287\n",
            "MAE: 1.6170894622802734\n",
            "MAPE: 0.040411225891113296\n",
            "R-squared: 0.9994210608458024\n",
            "Adjusted R-squared: 0.9993004485220113\n",
            "Evaluating Model 2 - Random State 100\n"
          ]
        },
        {
          "output_type": "stream",
          "name": "stderr",
          "text": [
            "/usr/local/lib/python3.10/dist-packages/sklearn/base.py:465: UserWarning: X does not have valid feature names, but StandardScaler was fitted with feature names\n",
            "  warnings.warn(\n"
          ]
        },
        {
          "output_type": "stream",
          "name": "stdout",
          "text": [
            "Prediction Time for model loaded from best_chromium_regressor_pipeline2 (2).joblib: 0.0333409309387207 seconds\n",
            "CPU Usage: 2.200000000000003%\n",
            "Memory Usage: 0.00 MB\n",
            "Performance Metrics:\n",
            "MSE: 8.768265544008196\n",
            "RMSE: 2.961125722425206\n",
            "MAE: 0.9930341720581055\n",
            "MAPE: 0.02219803110758464\n",
            "R-squared: 0.9996707184148292\n",
            "Adjusted R-squared: 0.9996021180845853\n",
            "Evaluating Model 3 - Random State 100\n"
          ]
        },
        {
          "output_type": "stream",
          "name": "stderr",
          "text": [
            "/usr/local/lib/python3.10/dist-packages/sklearn/base.py:465: UserWarning: X does not have valid feature names, but StandardScaler was fitted with feature names\n",
            "  warnings.warn(\n",
            "/usr/local/lib/python3.10/dist-packages/sklearn/base.py:465: UserWarning: X does not have valid feature names, but StandardScaler was fitted with feature names\n",
            "  warnings.warn(\n"
          ]
        },
        {
          "output_type": "stream",
          "name": "stdout",
          "text": [
            "Prediction Time for model loaded from best_chromium_regressor_pipeline3.joblib: 0.05586814880371094 seconds\n",
            "CPU Usage: 13.200000000000003%\n",
            "Memory Usage: 0.00 MB\n",
            "Performance Metrics:\n",
            "MSE: 8.49481618643913\n",
            "RMSE: 2.914586795145948\n",
            "MAE: 1.2942095438639323\n",
            "MAPE: 0.02393953959147136\n",
            "R-squared: 0.999680987474026\n",
            "Adjusted R-squared: 0.9996145265311147\n",
            "Evaluating Model 1 - Random State 100\n",
            "Prediction Time for model loaded from best_chromium_regressor_pipeline_Model1.joblib: 0.028968095779418945 seconds\n",
            "CPU Usage: 36.8%\n",
            "Memory Usage: 0.00 MB\n",
            "Performance Metrics:\n",
            "MSE: 15.416265185907347\n",
            "RMSE: 3.9263552037363287\n",
            "MAE: 1.6170894622802734\n",
            "MAPE: 0.040411225891113296\n",
            "R-squared: 0.9994210608458024\n",
            "Adjusted R-squared: 0.9993004485220113\n",
            "Evaluating Model 2 - Random State 100\n"
          ]
        },
        {
          "output_type": "stream",
          "name": "stderr",
          "text": [
            "/usr/local/lib/python3.10/dist-packages/sklearn/base.py:465: UserWarning: X does not have valid feature names, but StandardScaler was fitted with feature names\n",
            "  warnings.warn(\n"
          ]
        },
        {
          "output_type": "stream",
          "name": "stdout",
          "text": [
            "Prediction Time for model loaded from best_chromium_regressor_pipeline2 (2).joblib: 0.03421616554260254 seconds\n",
            "CPU Usage: -9.600000000000001%\n",
            "Memory Usage: 0.00 MB\n",
            "Performance Metrics:\n",
            "MSE: 8.768265544008196\n",
            "RMSE: 2.961125722425206\n",
            "MAE: 0.9930341720581055\n",
            "MAPE: 0.02219803110758464\n",
            "R-squared: 0.9996707184148292\n",
            "Adjusted R-squared: 0.9996021180845853\n",
            "Evaluating Model 3 - Random State 100\n"
          ]
        },
        {
          "output_type": "stream",
          "name": "stderr",
          "text": [
            "/usr/local/lib/python3.10/dist-packages/sklearn/base.py:465: UserWarning: X does not have valid feature names, but StandardScaler was fitted with feature names\n",
            "  warnings.warn(\n",
            "/usr/local/lib/python3.10/dist-packages/sklearn/base.py:465: UserWarning: X does not have valid feature names, but StandardScaler was fitted with feature names\n",
            "  warnings.warn(\n"
          ]
        },
        {
          "output_type": "stream",
          "name": "stdout",
          "text": [
            "Prediction Time for model loaded from best_chromium_regressor_pipeline3.joblib: 0.061260223388671875 seconds\n",
            "CPU Usage: 21.099999999999994%\n",
            "Memory Usage: 0.00 MB\n",
            "Performance Metrics:\n",
            "MSE: 8.49481618643913\n",
            "RMSE: 2.914586795145948\n",
            "MAE: 1.2942095438639323\n",
            "MAPE: 0.02393953959147136\n",
            "R-squared: 0.999680987474026\n",
            "Adjusted R-squared: 0.9996145265311147\n",
            "Evaluating Model 1 - Random State 100\n",
            "Prediction Time for model loaded from best_chromium_regressor_pipeline_Model1.joblib: 0.03325033187866211 seconds\n",
            "CPU Usage: 4.0%\n",
            "Memory Usage: 0.00 MB\n",
            "Performance Metrics:\n",
            "MSE: 15.416265185907347\n",
            "RMSE: 3.9263552037363287\n",
            "MAE: 1.6170894622802734\n",
            "MAPE: 0.040411225891113296\n",
            "R-squared: 0.9994210608458024\n",
            "Adjusted R-squared: 0.9993004485220113\n",
            "Evaluating Model 2 - Random State 100\n"
          ]
        },
        {
          "output_type": "stream",
          "name": "stderr",
          "text": [
            "/usr/local/lib/python3.10/dist-packages/sklearn/base.py:465: UserWarning: X does not have valid feature names, but StandardScaler was fitted with feature names\n",
            "  warnings.warn(\n"
          ]
        },
        {
          "output_type": "stream",
          "name": "stdout",
          "text": [
            "Prediction Time for model loaded from best_chromium_regressor_pipeline2 (2).joblib: 0.0463716983795166 seconds\n",
            "CPU Usage: 1.9000000000000057%\n",
            "Memory Usage: 0.00 MB\n",
            "Performance Metrics:\n",
            "MSE: 8.768265544008196\n",
            "RMSE: 2.961125722425206\n",
            "MAE: 0.9930341720581055\n",
            "MAPE: 0.02219803110758464\n",
            "R-squared: 0.9996707184148292\n",
            "Adjusted R-squared: 0.9996021180845853\n",
            "Evaluating Model 3 - Random State 100\n"
          ]
        },
        {
          "output_type": "stream",
          "name": "stderr",
          "text": [
            "/usr/local/lib/python3.10/dist-packages/sklearn/base.py:465: UserWarning: X does not have valid feature names, but StandardScaler was fitted with feature names\n",
            "  warnings.warn(\n"
          ]
        },
        {
          "output_type": "stream",
          "name": "stdout",
          "text": [
            "Prediction Time for model loaded from best_chromium_regressor_pipeline3.joblib: 0.11234927177429199 seconds\n",
            "CPU Usage: 0.0%\n",
            "Memory Usage: 0.00 MB\n",
            "Performance Metrics:\n",
            "MSE: 8.49481618643913\n",
            "RMSE: 2.914586795145948\n",
            "MAE: 1.2942095438639323\n",
            "MAPE: 0.02393953959147136\n",
            "R-squared: 0.999680987474026\n",
            "Adjusted R-squared: 0.9996145265311147\n",
            "Evaluating Model 1 - Random State 100\n"
          ]
        },
        {
          "output_type": "stream",
          "name": "stderr",
          "text": [
            "/usr/local/lib/python3.10/dist-packages/sklearn/base.py:465: UserWarning: X does not have valid feature names, but StandardScaler was fitted with feature names\n",
            "  warnings.warn(\n"
          ]
        },
        {
          "output_type": "stream",
          "name": "stdout",
          "text": [
            "Prediction Time for model loaded from best_chromium_regressor_pipeline_Model1.joblib: 0.06459951400756836 seconds\n",
            "CPU Usage: 0.0%\n",
            "Memory Usage: 0.00 MB\n",
            "Performance Metrics:\n",
            "MSE: 15.416265185907347\n",
            "RMSE: 3.9263552037363287\n",
            "MAE: 1.6170894622802734\n",
            "MAPE: 0.040411225891113296\n",
            "R-squared: 0.9994210608458024\n",
            "Adjusted R-squared: 0.9993004485220113\n",
            "Evaluating Model 2 - Random State 100\n"
          ]
        },
        {
          "output_type": "stream",
          "name": "stderr",
          "text": [
            "/usr/local/lib/python3.10/dist-packages/sklearn/base.py:465: UserWarning: X does not have valid feature names, but StandardScaler was fitted with feature names\n",
            "  warnings.warn(\n"
          ]
        },
        {
          "output_type": "stream",
          "name": "stdout",
          "text": [
            "Prediction Time for model loaded from best_chromium_regressor_pipeline2 (2).joblib: 0.10959506034851074 seconds\n",
            "CPU Usage: 1.9000000000000057%\n",
            "Memory Usage: 0.00 MB\n",
            "Performance Metrics:\n",
            "MSE: 8.768265544008196\n",
            "RMSE: 2.961125722425206\n",
            "MAE: 0.9930341720581055\n",
            "MAPE: 0.02219803110758464\n",
            "R-squared: 0.9996707184148292\n",
            "Adjusted R-squared: 0.9996021180845853\n",
            "Evaluating Model 3 - Random State 100\n"
          ]
        },
        {
          "output_type": "stream",
          "name": "stderr",
          "text": [
            "/usr/local/lib/python3.10/dist-packages/sklearn/base.py:465: UserWarning: X does not have valid feature names, but StandardScaler was fitted with feature names\n",
            "  warnings.warn(\n"
          ]
        },
        {
          "output_type": "stream",
          "name": "stdout",
          "text": [
            "Prediction Time for model loaded from best_chromium_regressor_pipeline3.joblib: 0.10648751258850098 seconds\n",
            "CPU Usage: 0.5999999999999943%\n",
            "Memory Usage: 0.00 MB\n",
            "Performance Metrics:\n",
            "MSE: 8.49481618643913\n",
            "RMSE: 2.914586795145948\n",
            "MAE: 1.2942095438639323\n",
            "MAPE: 0.02393953959147136\n",
            "R-squared: 0.999680987474026\n",
            "Adjusted R-squared: 0.9996145265311147\n",
            "Evaluating Model 1 - Random State 100\n",
            "Prediction Time for model loaded from best_chromium_regressor_pipeline_Model1.joblib: 0.026262521743774414 seconds"
          ]
        },
        {
          "output_type": "stream",
          "name": "stderr",
          "text": [
            "/usr/local/lib/python3.10/dist-packages/sklearn/base.py:465: UserWarning: X does not have valid feature names, but StandardScaler was fitted with feature names\n",
            "  warnings.warn(\n"
          ]
        },
        {
          "output_type": "stream",
          "name": "stdout",
          "text": [
            "\n",
            "CPU Usage: 0.0%\n",
            "Memory Usage: 0.00 MB\n",
            "Performance Metrics:\n",
            "MSE: 15.416265185907347\n",
            "RMSE: 3.9263552037363287\n",
            "MAE: 1.6170894622802734\n",
            "MAPE: 0.040411225891113296\n",
            "R-squared: 0.9994210608458024\n",
            "Adjusted R-squared: 0.9993004485220113\n",
            "Evaluating Model 2 - Random State 100\n"
          ]
        },
        {
          "output_type": "stream",
          "name": "stderr",
          "text": [
            "/usr/local/lib/python3.10/dist-packages/sklearn/base.py:465: UserWarning: X does not have valid feature names, but StandardScaler was fitted with feature names\n",
            "  warnings.warn(\n"
          ]
        },
        {
          "output_type": "stream",
          "name": "stdout",
          "text": [
            "Prediction Time for model loaded from best_chromium_regressor_pipeline2 (2).joblib: 0.07929611206054688 seconds\n",
            "CPU Usage: 0.0%\n",
            "Memory Usage: 0.00 MB\n",
            "Performance Metrics:\n",
            "MSE: 8.768265544008196\n",
            "RMSE: 2.961125722425206\n",
            "MAE: 0.9930341720581055\n",
            "MAPE: 0.02219803110758464\n",
            "R-squared: 0.9996707184148292\n",
            "Adjusted R-squared: 0.9996021180845853\n",
            "Evaluating Model 3 - Random State 100\n"
          ]
        },
        {
          "output_type": "stream",
          "name": "stderr",
          "text": [
            "/usr/local/lib/python3.10/dist-packages/sklearn/base.py:465: UserWarning: X does not have valid feature names, but StandardScaler was fitted with feature names\n",
            "  warnings.warn(\n",
            "/usr/local/lib/python3.10/dist-packages/sklearn/base.py:465: UserWarning: X does not have valid feature names, but StandardScaler was fitted with feature names\n",
            "  warnings.warn(\n"
          ]
        },
        {
          "output_type": "stream",
          "name": "stdout",
          "text": [
            "Prediction Time for model loaded from best_chromium_regressor_pipeline3.joblib: 0.061975717544555664 seconds\n",
            "CPU Usage: 11.200000000000003%\n",
            "Memory Usage: 0.00 MB\n",
            "Performance Metrics:\n",
            "MSE: 8.49481618643913\n",
            "RMSE: 2.914586795145948\n",
            "MAE: 1.2942095438639323\n",
            "MAPE: 0.02393953959147136\n",
            "R-squared: 0.999680987474026\n",
            "Adjusted R-squared: 0.9996145265311147\n",
            "Evaluating Model 1 - Random State 100\n",
            "Prediction Time for model loaded from best_chromium_regressor_pipeline_Model1.joblib: 0.0264127254486084 seconds\n",
            "CPU Usage: 4.599999999999994%\n",
            "Memory Usage: 0.00 MB\n",
            "Performance Metrics:\n",
            "MSE: 15.416265185907347\n",
            "RMSE: 3.9263552037363287\n",
            "MAE: 1.6170894622802734\n",
            "MAPE: 0.040411225891113296\n",
            "R-squared: 0.9994210608458024\n",
            "Adjusted R-squared: 0.9993004485220113\n",
            "Evaluating Model 2 - Random State 100\n"
          ]
        },
        {
          "output_type": "stream",
          "name": "stderr",
          "text": [
            "/usr/local/lib/python3.10/dist-packages/sklearn/base.py:465: UserWarning: X does not have valid feature names, but StandardScaler was fitted with feature names\n",
            "  warnings.warn(\n"
          ]
        },
        {
          "output_type": "stream",
          "name": "stdout",
          "text": [
            "Prediction Time for model loaded from best_chromium_regressor_pipeline2 (2).joblib: 0.034650564193725586 seconds\n",
            "CPU Usage: 9.300000000000004%\n",
            "Memory Usage: 0.00 MB\n",
            "Performance Metrics:\n",
            "MSE: 8.768265544008196\n",
            "RMSE: 2.961125722425206\n",
            "MAE: 0.9930341720581055\n",
            "MAPE: 0.02219803110758464\n",
            "R-squared: 0.9996707184148292\n",
            "Adjusted R-squared: 0.9996021180845853\n",
            "Evaluating Model 3 - Random State 100\n"
          ]
        },
        {
          "output_type": "stream",
          "name": "stderr",
          "text": [
            "/usr/local/lib/python3.10/dist-packages/sklearn/base.py:465: UserWarning: X does not have valid feature names, but StandardScaler was fitted with feature names\n",
            "  warnings.warn(\n",
            "/usr/local/lib/python3.10/dist-packages/sklearn/base.py:465: UserWarning: X does not have valid feature names, but StandardScaler was fitted with feature names\n",
            "  warnings.warn(\n"
          ]
        },
        {
          "output_type": "stream",
          "name": "stdout",
          "text": [
            "Prediction Time for model loaded from best_chromium_regressor_pipeline3.joblib: 0.06798171997070312 seconds\n",
            "CPU Usage: 5.800000000000011%\n",
            "Memory Usage: 0.00 MB\n",
            "Performance Metrics:\n",
            "MSE: 8.49481618643913\n",
            "RMSE: 2.914586795145948\n",
            "MAE: 1.2942095438639323\n",
            "MAPE: 0.02393953959147136\n",
            "R-squared: 0.999680987474026\n",
            "Adjusted R-squared: 0.9996145265311147\n",
            "Evaluating Model 1 - Random State 100\n",
            "Prediction Time for model loaded from best_chromium_regressor_pipeline_Model1.joblib: 0.01701211929321289 seconds\n",
            "CPU Usage: 3.5%\n",
            "Memory Usage: 0.00 MB\n",
            "Performance Metrics:\n",
            "MSE: 15.416265185907347\n",
            "RMSE: 3.9263552037363287\n",
            "MAE: 1.6170894622802734\n",
            "MAPE: 0.040411225891113296\n",
            "R-squared: 0.9994210608458024\n",
            "Adjusted R-squared: 0.9993004485220113\n",
            "Evaluating Model 2 - Random State 100\n"
          ]
        },
        {
          "output_type": "stream",
          "name": "stderr",
          "text": [
            "/usr/local/lib/python3.10/dist-packages/sklearn/base.py:465: UserWarning: X does not have valid feature names, but StandardScaler was fitted with feature names\n",
            "  warnings.warn(\n"
          ]
        },
        {
          "output_type": "stream",
          "name": "stdout",
          "text": [
            "Prediction Time for model loaded from best_chromium_regressor_pipeline2 (2).joblib: 0.03619742393493652 seconds\n",
            "CPU Usage: -2.200000000000003%\n",
            "Memory Usage: 0.00 MB\n",
            "Performance Metrics:\n",
            "MSE: 8.768265544008196\n",
            "RMSE: 2.961125722425206\n",
            "MAE: 0.9930341720581055\n",
            "MAPE: 0.02219803110758464\n",
            "R-squared: 0.9996707184148292\n",
            "Adjusted R-squared: 0.9996021180845853\n",
            "Evaluating Model 3 - Random State 100\n"
          ]
        },
        {
          "output_type": "stream",
          "name": "stderr",
          "text": [
            "/usr/local/lib/python3.10/dist-packages/sklearn/base.py:465: UserWarning: X does not have valid feature names, but StandardScaler was fitted with feature names\n",
            "  warnings.warn(\n",
            "/usr/local/lib/python3.10/dist-packages/sklearn/base.py:465: UserWarning: X does not have valid feature names, but StandardScaler was fitted with feature names\n",
            "  warnings.warn(\n"
          ]
        },
        {
          "output_type": "stream",
          "name": "stdout",
          "text": [
            "Prediction Time for model loaded from best_chromium_regressor_pipeline3.joblib: 0.05807328224182129 seconds\n",
            "CPU Usage: 4.700000000000003%\n",
            "Memory Usage: 0.00 MB\n",
            "Performance Metrics:\n",
            "MSE: 8.49481618643913\n",
            "RMSE: 2.914586795145948\n",
            "MAE: 1.2942095438639323\n",
            "MAPE: 0.02393953959147136\n",
            "R-squared: 0.999680987474026\n",
            "Adjusted R-squared: 0.9996145265311147\n",
            "Evaluating Model 1 - Random State 100\n",
            "Prediction Time for model loaded from best_chromium_regressor_pipeline_Model1.joblib: 0.019366025924682617 seconds\n",
            "CPU Usage: 5.600000000000001%\n",
            "Memory Usage: 0.00 MB\n",
            "Performance Metrics:\n",
            "MSE: 15.416265185907347\n",
            "RMSE: 3.9263552037363287\n",
            "MAE: 1.6170894622802734\n",
            "MAPE: 0.040411225891113296\n",
            "R-squared: 0.9994210608458024\n",
            "Adjusted R-squared: 0.9993004485220113\n",
            "Evaluating Model 2 - Random State 100\n"
          ]
        },
        {
          "output_type": "stream",
          "name": "stderr",
          "text": [
            "/usr/local/lib/python3.10/dist-packages/sklearn/base.py:465: UserWarning: X does not have valid feature names, but StandardScaler was fitted with feature names\n",
            "  warnings.warn(\n"
          ]
        },
        {
          "output_type": "stream",
          "name": "stdout",
          "text": [
            "Prediction Time for model loaded from best_chromium_regressor_pipeline2 (2).joblib: 0.0346980094909668 seconds\n",
            "CPU Usage: 4.700000000000003%\n",
            "Memory Usage: 0.00 MB\n",
            "Performance Metrics:\n",
            "MSE: 8.768265544008196\n",
            "RMSE: 2.961125722425206\n",
            "MAE: 0.9930341720581055\n",
            "MAPE: 0.02219803110758464\n",
            "R-squared: 0.9996707184148292\n",
            "Adjusted R-squared: 0.9996021180845853\n",
            "Evaluating Model 3 - Random State 100\n"
          ]
        },
        {
          "output_type": "stream",
          "name": "stderr",
          "text": [
            "/usr/local/lib/python3.10/dist-packages/sklearn/base.py:465: UserWarning: X does not have valid feature names, but StandardScaler was fitted with feature names\n",
            "  warnings.warn(\n",
            "/usr/local/lib/python3.10/dist-packages/sklearn/base.py:465: UserWarning: X does not have valid feature names, but StandardScaler was fitted with feature names\n",
            "  warnings.warn(\n"
          ]
        },
        {
          "output_type": "stream",
          "name": "stdout",
          "text": [
            "Prediction Time for model loaded from best_chromium_regressor_pipeline3.joblib: 0.0730888843536377 seconds\n",
            "CPU Usage: 16.799999999999997%\n",
            "Memory Usage: 0.00 MB\n",
            "Performance Metrics:\n",
            "MSE: 8.49481618643913\n",
            "RMSE: 2.914586795145948\n",
            "MAE: 1.2942095438639323\n",
            "MAPE: 0.02393953959147136\n",
            "R-squared: 0.999680987474026\n",
            "Adjusted R-squared: 0.9996145265311147\n",
            "Evaluating Model 1 - Random State 100\n",
            "Prediction Time for model loaded from best_chromium_regressor_pipeline_Model1.joblib: 0.019120216369628906 seconds\n",
            "CPU Usage: 11.799999999999997%\n",
            "Memory Usage: 0.00 MB\n",
            "Performance Metrics:\n",
            "MSE: 15.416265185907347\n",
            "RMSE: 3.9263552037363287\n",
            "MAE: 1.6170894622802734\n",
            "MAPE: 0.040411225891113296\n",
            "R-squared: 0.9994210608458024\n",
            "Adjusted R-squared: 0.9993004485220113\n",
            "Evaluating Model 2 - Random State 100\n"
          ]
        },
        {
          "output_type": "stream",
          "name": "stderr",
          "text": [
            "/usr/local/lib/python3.10/dist-packages/sklearn/base.py:465: UserWarning: X does not have valid feature names, but StandardScaler was fitted with feature names\n",
            "  warnings.warn(\n"
          ]
        },
        {
          "output_type": "stream",
          "name": "stdout",
          "text": [
            "Prediction Time for model loaded from best_chromium_regressor_pipeline2 (2).joblib: 0.035384178161621094 seconds\n",
            "CPU Usage: 1.1000000000000085%\n",
            "Memory Usage: 0.00 MB\n",
            "Performance Metrics:\n",
            "MSE: 8.768265544008196\n",
            "RMSE: 2.961125722425206\n",
            "MAE: 0.9930341720581055\n",
            "MAPE: 0.02219803110758464\n",
            "R-squared: 0.9996707184148292\n",
            "Adjusted R-squared: 0.9996021180845853\n",
            "Evaluating Model 3 - Random State 100\n"
          ]
        },
        {
          "output_type": "stream",
          "name": "stderr",
          "text": [
            "/usr/local/lib/python3.10/dist-packages/sklearn/base.py:465: UserWarning: X does not have valid feature names, but StandardScaler was fitted with feature names\n",
            "  warnings.warn(\n",
            "/usr/local/lib/python3.10/dist-packages/sklearn/base.py:465: UserWarning: X does not have valid feature names, but StandardScaler was fitted with feature names\n",
            "  warnings.warn(\n"
          ]
        },
        {
          "output_type": "stream",
          "name": "stdout",
          "text": [
            "Prediction Time for model loaded from best_chromium_regressor_pipeline3.joblib: 0.05105924606323242 seconds\n",
            "CPU Usage: 8.299999999999997%\n",
            "Memory Usage: 0.00 MB\n",
            "Performance Metrics:\n",
            "MSE: 8.49481618643913\n",
            "RMSE: 2.914586795145948\n",
            "MAE: 1.2942095438639323\n",
            "MAPE: 0.02393953959147136\n",
            "R-squared: 0.999680987474026\n",
            "Adjusted R-squared: 0.9996145265311147\n",
            "Evaluating Model 1 - Random State 100\n",
            "Prediction Time for model loaded from best_chromium_regressor_pipeline_Model1.joblib: 0.01666712760925293 seconds\n",
            "CPU Usage: 15.0%\n",
            "Memory Usage: 0.00 MB\n",
            "Performance Metrics:\n",
            "MSE: 15.416265185907347\n",
            "RMSE: 3.9263552037363287\n",
            "MAE: 1.6170894622802734\n",
            "MAPE: 0.040411225891113296\n",
            "R-squared: 0.9994210608458024\n",
            "Adjusted R-squared: 0.9993004485220113\n",
            "Evaluating Model 2 - Random State 100\n"
          ]
        },
        {
          "output_type": "stream",
          "name": "stderr",
          "text": [
            "/usr/local/lib/python3.10/dist-packages/sklearn/base.py:465: UserWarning: X does not have valid feature names, but StandardScaler was fitted with feature names\n",
            "  warnings.warn(\n"
          ]
        },
        {
          "output_type": "stream",
          "name": "stdout",
          "text": [
            "Prediction Time for model loaded from best_chromium_regressor_pipeline2 (2).joblib: 0.029939889907836914 seconds\n",
            "CPU Usage: -11.400000000000006%\n",
            "Memory Usage: 0.00 MB\n",
            "Performance Metrics:\n",
            "MSE: 8.768265544008196\n",
            "RMSE: 2.961125722425206\n",
            "MAE: 0.9930341720581055\n",
            "MAPE: 0.02219803110758464\n",
            "R-squared: 0.9996707184148292\n",
            "Adjusted R-squared: 0.9996021180845853\n",
            "Evaluating Model 3 - Random State 100\n",
            "Prediction Time for model loaded from best_chromium_regressor_pipeline3.joblib: 0.048384666442871094 seconds\n",
            "CPU Usage: 3.4000000000000057%\n",
            "Memory Usage: 0.00 MB\n",
            "Performance Metrics:\n",
            "MSE: 8.49481618643913\n",
            "RMSE: 2.914586795145948\n",
            "MAE: 1.2942095438639323\n",
            "MAPE: 0.02393953959147136\n",
            "R-squared: 0.999680987474026\n",
            "Adjusted R-squared: 0.9996145265311147\n",
            "Average Results for Model 1: [2.23713557e-02 3.12000000e+00 0.00000000e+00 2.37905324e+01\n",
            " 4.81696459e+00 1.71505330e+00 3.15854172e-02 9.99277562e-01\n",
            " 9.99127054e-01]\n",
            "Average Results for Model 2: [ 0.04360418  2.60666667  0.         24.98327473  4.76135475  1.35318957\n",
            "  0.02844143  0.99927304  0.99912159]\n",
            "Average Results for Model 3: [6.40743415e-02 8.00000000e+00 0.00000000e+00 3.13059340e+02\n",
            " 1.30802268e+01 3.23088813e+00 3.62260141e-02 9.90924282e-01\n",
            " 9.89033508e-01]\n"
          ]
        },
        {
          "output_type": "stream",
          "name": "stderr",
          "text": [
            "/usr/local/lib/python3.10/dist-packages/sklearn/base.py:465: UserWarning: X does not have valid feature names, but StandardScaler was fitted with feature names\n",
            "  warnings.warn(\n"
          ]
        }
      ]
    },
    {
      "cell_type": "code",
      "source": [
        "\n",
        "print(\"Average Results for Model 1:\")\n",
        "print(f\"Prediction Time: {average_results1[0]} seconds\")\n",
        "print(f\"CPU Usage: {average_results1[1]}%\")\n",
        "print(f\"Memory Usage: {average_results1[2]:.2f} MB\")\n",
        "print(f\"MSE: {average_results1[3]}\")\n",
        "print(f\"RMSE: {average_results1[4]}\")\n",
        "print(f\"MAE: {average_results1[5]}\")\n",
        "print(f\"MAPE: {average_results1[6]}\")\n",
        "print(f\"R-squared: {average_results1[7]}\")\n",
        "print(f\"Adjusted R-squared: {average_results1[8]}\")\n",
        "\n",
        "print(\"\\nAverage Results for Model 2:\")\n",
        "print(f\"Prediction Time: {average_results2[0]} seconds\")\n",
        "print(f\"CPU Usage: {average_results2[1]}%\")\n",
        "print(f\"Memory Usage: {average_results2[2]:.2f} MB\")\n",
        "print(f\"MSE: {average_results2[3]}\")\n",
        "print(f\"RMSE: {average_results2[4]}\")\n",
        "print(f\"MAE: {average_results2[5]}\")\n",
        "print(f\"MAPE: {average_results2[6]}\")\n",
        "print(f\"R-squared: {average_results2[7]}\")\n",
        "print(f\"Adjusted R-squared: {average_results2[8]}\")\n",
        "\n",
        "print(\"\\nAverage Results for Model 3:\")\n",
        "print(f\"Prediction Time: {average_results3[0]} seconds\")\n",
        "print(f\"CPU Usage: {average_results3[1]}%\")\n",
        "print(f\"Memory Usage: {average_results3[2]:.2f} MB\")\n",
        "print(f\"MSE: {average_results3[3]}\")\n",
        "print(f\"RMSE: {average_results3[4]}\")\n",
        "print(f\"MAE: {average_results3[5]}\")\n",
        "print(f\"MAPE: {average_results3[6]}\")\n",
        "print(f\"R-squared: {average_results3[7]}\")\n",
        "print(f\"Adjusted R-squared: {average_results3[8]}\")"
      ],
      "metadata": {
        "colab": {
          "base_uri": "https://localhost:8080/"
        },
        "id": "OGjzg318gdUV",
        "outputId": "29ad9d54-b727-4bd7-a268-54016bd82233"
      },
      "execution_count": 54,
      "outputs": [
        {
          "output_type": "stream",
          "name": "stdout",
          "text": [
            "Average Results for Model 1:\n",
            "Prediction Time: 0.022371355692545572 seconds\n",
            "CPU Usage: 3.12%\n",
            "Memory Usage: 0.00 MB\n",
            "MSE: 23.790532355886544\n",
            "RMSE: 4.816964591294556\n",
            "MAE: 1.7150533040364593\n",
            "MAPE: 0.031585417175292986\n",
            "R-squared: 0.9992775619694859\n",
            "Adjusted R-squared: 0.9991270540464626\n",
            "\n",
            "Average Results for Model 2:\n",
            "Prediction Time: 0.04360417524973551 seconds\n",
            "CPU Usage: 2.6066666666666687%\n",
            "Memory Usage: 0.00 MB\n",
            "MSE: 24.983274726547293\n",
            "RMSE: 4.761354748310486\n",
            "MAE: 1.3531895743476017\n",
            "MAPE: 0.02844143185085722\n",
            "R-squared: 0.9992730377452325\n",
            "Adjusted R-squared: 0.9991215872754888\n",
            "\n",
            "Average Results for Model 3:\n",
            "Prediction Time: 0.06407434145609538 seconds\n",
            "CPU Usage: 8.000000000000002%\n",
            "Memory Usage: 0.00 MB\n",
            "MSE: 313.05934030588713\n",
            "RMSE: 13.080226820832506\n",
            "MAE: 3.230888133578828\n",
            "MAPE: 0.03622601411607532\n",
            "R-squared: 0.9909242823622983\n",
            "Adjusted R-squared: 0.9890335078544442\n"
          ]
        }
      ]
    },
    {
      "cell_type": "code",
      "source": [
        "import numpy as np\n",
        "import pandas as pd\n",
        "import xgboost as xgb\n",
        "import sklearn\n",
        "import joblib\n",
        "import scipy\n",
        "\n",
        "print(\"NumPy version:\", np.__version__)\n",
        "print(\"Pandas version:\", pd.__version__)\n",
        "print(\"XGBoost version:\", xgb.__version__)\n",
        "print(\"scikit-learn version:\", sklearn.__version__)\n",
        "print(\"joblib version:\", joblib.__version__)\n",
        "print(\"SciPy version:\", scipy.__version__)\n"
      ],
      "metadata": {
        "id": "vtnfsIMvgLY5",
        "colab": {
          "base_uri": "https://localhost:8080/"
        },
        "outputId": "2601fdfc-4a0d-4e5d-fffe-d7b8c80736f0"
      },
      "execution_count": 55,
      "outputs": [
        {
          "output_type": "stream",
          "name": "stdout",
          "text": [
            "NumPy version: 1.26.4\n",
            "Pandas version: 2.1.4\n",
            "XGBoost version: 2.1.0\n",
            "scikit-learn version: 1.3.2\n",
            "joblib version: 1.4.2\n",
            "SciPy version: 1.13.1\n"
          ]
        }
      ]
    },
    {
      "cell_type": "code",
      "source": [],
      "metadata": {
        "id": "1yloAQpBgOu3"
      },
      "execution_count": 10,
      "outputs": []
    },
    {
      "cell_type": "code",
      "source": [],
      "metadata": {
        "id": "Bqhd8H7zgRgU"
      },
      "execution_count": 10,
      "outputs": []
    },
    {
      "cell_type": "code",
      "source": [],
      "metadata": {
        "id": "cJcqtCBJawMk"
      },
      "execution_count": 10,
      "outputs": []
    },
    {
      "cell_type": "code",
      "source": [],
      "metadata": {
        "id": "3mrUmK3lcoiX"
      },
      "execution_count": 10,
      "outputs": []
    },
    {
      "cell_type": "code",
      "source": [],
      "metadata": {
        "id": "Z_trRxSna7t_"
      },
      "execution_count": null,
      "outputs": []
    },
    {
      "cell_type": "code",
      "source": [],
      "metadata": {
        "id": "fkYkte96cspK"
      },
      "execution_count": 304,
      "outputs": []
    },
    {
      "cell_type": "code",
      "source": [
        "\n"
      ],
      "metadata": {
        "id": "bAfXoQ5Lcwft"
      },
      "execution_count": 304,
      "outputs": []
    },
    {
      "cell_type": "code",
      "source": [],
      "metadata": {
        "id": "MSAL_qwsdwCM"
      },
      "execution_count": 304,
      "outputs": []
    }
  ]
}